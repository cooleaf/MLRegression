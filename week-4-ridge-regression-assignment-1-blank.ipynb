{
 "cells": [
  {
   "cell_type": "markdown",
   "metadata": {},
   "source": [
    "# Regression Week 4: Ridge Regression (interpretation)"
   ]
  },
  {
   "cell_type": "markdown",
   "metadata": {},
   "source": [
    "In this notebook, we will run ridge regression multiple times with different L2 penalties to see which one produces the best fit. We will revisit the example of polynomial regression as a means to see the effect of L2 regularization. In particular, we will:\n",
    "* Use a pre-built implementation of regression (GraphLab Create) to run polynomial regression\n",
    "* Use matplotlib to visualize polynomial regressions\n",
    "* Use a pre-built implementation of regression (GraphLab Create) to run polynomial regression, this time with L2 penalty\n",
    "* Use matplotlib to visualize polynomial regressions under L2 regularization\n",
    "* Choose best L2 penalty using cross-validation.\n",
    "* Assess the final fit using test data.\n",
    "\n",
    "We will continue to use the House data from previous notebooks.  (In the next programming assignment for this module, you will implement your own ridge regression learning algorithm using gradient descent.)"
   ]
  },
  {
   "cell_type": "markdown",
   "metadata": {},
   "source": [
    "# Fire up graphlab create"
   ]
  },
  {
   "cell_type": "code",
   "execution_count": 2,
   "metadata": {
    "collapsed": true
   },
   "outputs": [],
   "source": [
    "import graphlab"
   ]
  },
  {
   "cell_type": "markdown",
   "metadata": {},
   "source": [
    "# Polynomial regression, revisited"
   ]
  },
  {
   "cell_type": "markdown",
   "metadata": {},
   "source": [
    "We build on the material from Week 3, where we wrote the function to produce an SFrame with columns containing the powers of a given input. Copy and paste the function `polynomial_sframe` from Week 3:"
   ]
  },
  {
   "cell_type": "code",
   "execution_count": 3,
   "metadata": {
    "collapsed": true
   },
   "outputs": [],
   "source": [
    "def polynomial_sframe(feature, degree):\n",
    "    # assume that degree >= 1\n",
    "    # initialize the SFrame:\n",
    "    poly_sframe = graphlab.SFrame()\n",
    "    # and set poly_sframe['power_1'] equal to the passed feature\n",
    "    poly_sframe['power_1'] = feature\n",
    "    # first check if degree > 1\n",
    "    if degree > 1:\n",
    "        # then loop over the remaining degrees:\n",
    "        # range usually starts at 0 and stops at the endpoint-1. We want it to start at 2 and stop at degree\n",
    "        for power in range(2, degree+1): \n",
    "            # first we'll give the column a name:\n",
    "            name = 'power_' + str(power)\n",
    "            # then assign poly_sframe[name] to the appropriate power of feature\n",
    "            poly_sframe[name] = feature.apply(lambda x : x**power)\n",
    "    return poly_sframe"
   ]
  },
  {
   "cell_type": "markdown",
   "metadata": {},
   "source": [
    "Let's use matplotlib to visualize what a polynomial regression looks like on the house data."
   ]
  },
  {
   "cell_type": "code",
   "execution_count": 4,
   "metadata": {},
   "outputs": [
    {
     "name": "stdout",
     "output_type": "stream",
     "text": [
      "This non-commercial license of GraphLab Create for academic use is assigned to cooleaf@gmail.com and will expire on June 05, 2018.\n"
     ]
    },
    {
     "name": "stderr",
     "output_type": "stream",
     "text": [
      "[INFO] graphlab.cython.cy_server: GraphLab Create v2.1 started. Logging: /tmp/graphlab_server_1508665033.log\n"
     ]
    }
   ],
   "source": [
    "import matplotlib.pyplot as plt\n",
    "%matplotlib inline"
   ]
  },
  {
   "cell_type": "code",
   "execution_count": 7,
   "metadata": {
    "collapsed": true
   },
   "outputs": [],
   "source": [
    "sales = graphlab.SFrame('kc_house_data.gl/')"
   ]
  },
  {
   "cell_type": "markdown",
   "metadata": {},
   "source": [
    "As in Week 3, we will use the sqft_living variable. For plotting purposes (connecting the dots), you'll need to sort by the values of sqft_living. For houses with identical square footage, we break the tie by their prices."
   ]
  },
  {
   "cell_type": "code",
   "execution_count": 8,
   "metadata": {
    "collapsed": true
   },
   "outputs": [],
   "source": [
    "sales = sales.sort(['sqft_living','price'])"
   ]
  },
  {
   "cell_type": "markdown",
   "metadata": {},
   "source": [
    "Let us revisit the 15th-order polynomial model using the 'sqft_living' input. Generate polynomial features up to degree 15 using `polynomial_sframe()` and fit a model with these features. When fitting the model, use an L2 penalty of `1e-5`:"
   ]
  },
  {
   "cell_type": "code",
   "execution_count": 9,
   "metadata": {},
   "outputs": [
    {
     "name": "stdout",
     "output_type": "stream",
     "text": [
      "+-------------+-------+-----------------+---------------+\n",
      "|     name    | index |      value      |     stderr    |\n",
      "+-------------+-------+-----------------+---------------+\n",
      "| (intercept) |  None |  73619.7521124  | 932386.401678 |\n",
      "|   power_1   |  None |  410.287462538  | 4736.29673944 |\n",
      "|   power_2   |  None | -0.230450714433 |  9.8605324062 |\n",
      "+-------------+-------+-----------------+---------------+\n",
      "[16 rows x 4 columns]\n",
      "\n"
     ]
    },
    {
     "data": {
      "text/plain": [
       "[<matplotlib.lines.Line2D at 0x110a291d0>,\n",
       " <matplotlib.lines.Line2D at 0x110a292d0>]"
      ]
     },
     "execution_count": 9,
     "metadata": {},
     "output_type": "execute_result"
    },
    {
     "data": {
      "image/png": "[encoded data removed]",
      "text/plain": [
       "<matplotlib.figure.Figure at 0x11148dd10>"
      ]
     },
     "metadata": {},
     "output_type": "display_data"
    }
   ],
   "source": [
    "l2_small_penalty = 1e-5\n",
    "poly_data = polynomial_sframe(sales['sqft_living'], 15)\n",
    "poly_features = poly_data.column_names()\n",
    "poly_data['price'] = sales['price']\n",
    "model = graphlab.linear_regression.create(poly_data, target='price', features=poly_features, verbose=False,validation_set=None)\n",
    "model.get(\"coefficients\").print_rows(3)\n",
    "plt.plot(poly_data['power_1'],poly_data['price'],'b.',\n",
    "        poly_data['power_1'], model.predict(poly_data), 'g-')"
   ]
  },
  {
   "cell_type": "markdown",
   "metadata": {},
   "source": [
    "Note: When we have so many features and so few data points, the solution can become highly numerically unstable, which can sometimes lead to strange unpredictable results.  Thus, rather than using no regularization, we will introduce a tiny amount of regularization (`l2_penalty=1e-5`) to make the solution numerically stable.  (In lecture, we discussed the fact that regularization can also help with numerical stability, and here we are seeing a practical example.)\n",
    "\n",
    "With the L2 penalty specified above, fit the model and print out the learned weights.\n",
    "\n",
    "Hint: make sure to add 'price' column to the new SFrame before calling `graphlab.linear_regression.create()`. Also, make sure GraphLab Create doesn't create its own validation set by using the option `validation_set=None` in this call."
   ]
  },
  {
   "cell_type": "code",
   "execution_count": 10,
   "metadata": {},
   "outputs": [
    {
     "name": "stdout",
     "output_type": "stream",
     "text": [
      "+-------------+-------+---------------+---------------+\n",
      "|     name    | index |     value     |     stderr    |\n",
      "+-------------+-------+---------------+---------------+\n",
      "| (intercept) |  None | 167924.855861 | 932257.186892 |\n",
      "|   power_1   |  None |  103.09095592 | 4735.64035967 |\n",
      "|   power_2   |  None | 0.13460454755 | 9.85916588414 |\n",
      "+-------------+-------+---------------+---------------+\n",
      "[16 rows x 4 columns]\n",
      "\n"
     ]
    },
    {
     "data": {
      "text/plain": [
       "[<matplotlib.lines.Line2D at 0x110955750>,\n",
       " <matplotlib.lines.Line2D at 0x110955850>]"
      ]
     },
     "execution_count": 10,
     "metadata": {},
     "output_type": "execute_result"
    },
    {
     "data": {
      "image/png": "[encoded data removed]",
      "text/plain": [
       "<matplotlib.figure.Figure at 0x11148d110>"
      ]
     },
     "metadata": {},
     "output_type": "display_data"
    }
   ],
   "source": [
    "\n",
    "model2 = graphlab.linear_regression.create(poly_data, target='price', l2_penalty=l2_small_penalty, features=poly_features, verbose=False,validation_set=None)\n",
    "model2.get(\"coefficients\").print_rows(3)\n",
    "plt.plot(poly_data['power_1'],poly_data['price'],'.',\n",
    "        poly_data['power_1'], model2.predict(poly_data), 'g-')"
   ]
  },
  {
   "cell_type": "markdown",
   "metadata": {},
   "source": [
    "***QUIZ QUESTION:  What's the learned value for the coefficient of feature `power_1`?***"
   ]
  },
  {
   "cell_type": "markdown",
   "metadata": {},
   "source": [
    "# Observe overfitting"
   ]
  },
  {
   "cell_type": "markdown",
   "metadata": {},
   "source": [
    "Recall from Week 3 that the polynomial fit of degree 15 changed wildly whenever the data changed. In particular, when we split the sales data into four subsets and fit the model of degree 15, the result came out to be very different for each subset. The model had a *high variance*. We will see in a moment that ridge regression reduces such variance. But first, we must reproduce the experiment we did in Week 3."
   ]
  },
  {
   "cell_type": "markdown",
   "metadata": {},
   "source": [
    "First, split the data into split the sales data into four subsets of roughly equal size and call them `set_1`, `set_2`, `set_3`, and `set_4`. Use `.random_split` function and make sure you set `seed=0`. "
   ]
  },
  {
   "cell_type": "code",
   "execution_count": 11,
   "metadata": {
    "collapsed": true
   },
   "outputs": [],
   "source": [
    "(semi_split1, semi_split2) = sales.random_split(.5,seed=0)\n",
    "(set_1, set_2) = semi_split1.random_split(0.5, seed=0)\n",
    "(set_3, set_4) = semi_split2.random_split(0.5, seed=0)"
   ]
  },
  {
   "cell_type": "markdown",
   "metadata": {},
   "source": [
    "Next, fit a 15th degree polynomial on `set_1`, `set_2`, `set_3`, and `set_4`, using 'sqft_living' to predict prices. Print the weights and make a plot of the resulting model.\n",
    "\n",
    "Hint: When calling `graphlab.linear_regression.create()`, use the same L2 penalty as before (i.e. `l2_small_penalty`).  Also, make sure GraphLab Create doesn't create its own validation set by using the option `validation_set = None` in this call."
   ]
  },
  {
   "cell_type": "code",
   "execution_count": 12,
   "metadata": {},
   "outputs": [
    {
     "name": "stdout",
     "output_type": "stream",
     "text": [
      "+-------------+-------+-----------------+---------------+\n",
      "|     name    | index |      value      |     stderr    |\n",
      "+-------------+-------+-----------------+---------------+\n",
      "| (intercept) |  None |   9306.4606221  | 1255976.06157 |\n",
      "|   power_1   |  None |  585.865823394  | 6003.28876462 |\n",
      "|   power_2   |  None | -0.397305895643 | 11.9613259026 |\n",
      "+-------------+-------+-----------------+---------------+\n",
      "[16 rows x 4 columns]\n",
      "\n"
     ]
    },
    {
     "data": {
      "text/plain": [
       "[<matplotlib.lines.Line2D at 0x11235e290>,\n",
       " <matplotlib.lines.Line2D at 0x11235e390>]"
      ]
     },
     "execution_count": 12,
     "metadata": {},
     "output_type": "execute_result"
    },
    {
     "data": {
      "image/png": "[encoded data removed]",
      "text/plain": [
       "<matplotlib.figure.Figure at 0x111494610>"
      ]
     },
     "metadata": {},
     "output_type": "display_data"
    }
   ],
   "source": [
    "poly_data_set_1 = polynomial_sframe(set_1['sqft_living'], 15)\n",
    "poly_features_set_1 = poly_data_set_1.column_names()\n",
    "poly_data_set_1['price'] = set_1['price']\n",
    "model_set_1 = graphlab.linear_regression.create(poly_data_set_1, target='price', l2_penalty=l2_small_penalty, \n",
    "                                                features=poly_features_set_1, validation_set=None, verbose=False\n",
    "                                               )\n",
    "model_set_1.get(\"coefficients\").print_rows(3)\n",
    "plt.plot(poly_data_set_1['power_1'], poly_data_set_1['price'], '.',\n",
    "        poly_data_set_1['power_1'], model_set_1.predict(poly_data_set_1), '-')"
   ]
  },
  {
   "cell_type": "code",
   "execution_count": 13,
   "metadata": {
    "scrolled": false
   },
   "outputs": [
    {
     "name": "stdout",
     "output_type": "stream",
     "text": [
      "+-------------+-------+-----------------+---------------+\n",
      "|     name    | index |      value      |     stderr    |\n",
      "+-------------+-------+-----------------+---------------+\n",
      "| (intercept) |  None |  -25115.9044254 | 1573017.12178 |\n",
      "|   power_1   |  None |   783.49380028  | 9293.98471763 |\n",
      "|   power_2   |  None | -0.767759302942 | 23.3971636819 |\n",
      "+-------------+-------+-----------------+---------------+\n",
      "[16 rows x 4 columns]\n",
      "\n"
     ]
    },
    {
     "data": {
      "text/plain": [
       "[<matplotlib.lines.Line2D at 0x11275dfd0>,\n",
       " <matplotlib.lines.Line2D at 0x11276c110>]"
      ]
     },
     "execution_count": 13,
     "metadata": {},
     "output_type": "execute_result"
    },
    {
     "data": {
      "image/png": "[encoded data removed]",
      "text/plain": [
       "<matplotlib.figure.Figure at 0x112385350>"
      ]
     },
     "metadata": {},
     "output_type": "display_data"
    }
   ],
   "source": [
    "poly_data_set_2 = polynomial_sframe(set_2['sqft_living'], 15)\n",
    "poly_features_set_2 = poly_data_set_2.column_names()\n",
    "poly_data_set_2['price'] = set_2['price']\n",
    "model_set_2 = graphlab.linear_regression.create(poly_data_set_2, target='price', l2_penalty=l2_small_penalty, \n",
    "                                                features=poly_features_set_2, validation_set=None, verbose=False\n",
    "                                               )\n",
    "model_set_2.get(\"coefficients\").print_rows(3)\n",
    "plt.plot(poly_data_set_2['power_1'], poly_data_set_2['price'], '.',\n",
    "        poly_data_set_2['power_1'], model_set_2.predict(poly_data_set_2), '-')"
   ]
  },
  {
   "cell_type": "code",
   "execution_count": 14,
   "metadata": {},
   "outputs": [
    {
     "name": "stdout",
     "output_type": "stream",
     "text": [
      "+-------------+-------+----------------+--------+\n",
      "|     name    | index |     value      | stderr |\n",
      "+-------------+-------+----------------+--------+\n",
      "| (intercept) |  None | 462426.565731  |  nan   |\n",
      "|   power_1   |  None | -759.251842854 |  nan   |\n",
      "|   power_2   |  None |  1.0286700473  |  nan   |\n",
      "+-------------+-------+----------------+--------+\n",
      "[16 rows x 4 columns]\n",
      "\n"
     ]
    },
    {
     "data": {
      "text/plain": [
       "[<matplotlib.lines.Line2D at 0x112484690>,\n",
       " <matplotlib.lines.Line2D at 0x112484790>]"
      ]
     },
     "execution_count": 14,
     "metadata": {},
     "output_type": "execute_result"
    },
    {
     "data": {
      "image/png": "[encoded data removed]",
      "text/plain": [
       "<matplotlib.figure.Figure at 0x11148dc50>"
      ]
     },
     "metadata": {},
     "output_type": "display_data"
    }
   ],
   "source": [
    "poly_data_set_3 = polynomial_sframe(set_3['sqft_living'], 15)\n",
    "poly_features_set_3 = poly_data_set_3.column_names()\n",
    "poly_data_set_3['price'] = set_3['price']\n",
    "model_set_3 = graphlab.linear_regression.create(poly_data_set_3, target='price', l2_penalty=l2_small_penalty, \n",
    "                                                features=poly_features_set_3, validation_set=None, verbose=False\n",
    "                                               )\n",
    "model_set_3.get(\"coefficients\").print_rows(3)\n",
    "plt.plot(poly_data_set_3['power_1'], poly_data_set_3['price'], '.',\n",
    "        poly_data_set_3['power_1'], model_set_3.predict(poly_data_set_3), '-')"
   ]
  },
  {
   "cell_type": "code",
   "execution_count": 15,
   "metadata": {},
   "outputs": [
    {
     "name": "stdout",
     "output_type": "stream",
     "text": [
      "+-------------+-------+----------------+---------------+\n",
      "|     name    | index |     value      |     stderr    |\n",
      "+-------------+-------+----------------+---------------+\n",
      "| (intercept) |  None | -170240.032842 | 1543796.62885 |\n",
      "|   power_1   |  None | 1247.59034541  | 9978.42791287 |\n",
      "|   power_2   |  None | -1.22460912177 | 26.7138477947 |\n",
      "+-------------+-------+----------------+---------------+\n",
      "[16 rows x 4 columns]\n",
      "\n"
     ]
    },
    {
     "data": {
      "text/plain": [
       "[<matplotlib.lines.Line2D at 0x113a6b150>,\n",
       " <matplotlib.lines.Line2D at 0x113a6b250>]"
      ]
     },
     "execution_count": 15,
     "metadata": {},
     "output_type": "execute_result"
    },
    {
     "data": {
      "image/png": "[encoded data removed]",
      "text/plain": [
       "<matplotlib.figure.Figure at 0x11249e0d0>"
      ]
     },
     "metadata": {},
     "output_type": "display_data"
    }
   ],
   "source": [
    "poly_data_set_4 = polynomial_sframe(set_4['sqft_living'], 15)\n",
    "poly_features_set_4 = poly_data_set_4.column_names()\n",
    "poly_data_set_4['price'] = set_4['price']\n",
    "model_set_4 = graphlab.linear_regression.create(poly_data_set_4, target='price', l2_penalty=l2_small_penalty, \n",
    "                                                features=poly_features_set_4, validation_set=None, verbose=False\n",
    "                                               )\n",
    "model_set_4.get(\"coefficients\").print_rows(3)\n",
    "plt.plot(poly_data_set_4['power_1'], poly_data_set_4['price'], '.',\n",
    "        poly_data_set_4['power_1'], model_set_4.predict(poly_data_set_4), '-')"
   ]
  },
  {
   "cell_type": "markdown",
   "metadata": {},
   "source": [
    "The four curves should differ from one another a lot, as should the coefficients you learned.\n",
    "\n",
    "***QUIZ QUESTION:  For the models learned in each of these training sets, what are the smallest and largest values you learned for the coefficient of feature `power_1`?***  (For the purpose of answering this question, negative numbers are considered \"smaller\" than positive numbers. So -5 is smaller than -3, and -3 is smaller than 5 and so forth.)"
   ]
  },
  {
   "cell_type": "code",
   "execution_count": 16,
   "metadata": {},
   "outputs": [
    {
     "name": "stdout",
     "output_type": "stream",
     "text": [
      "+-------------+-------+-----------------+---------------+\n",
      "|     name    | index |      value      |     stderr    |\n",
      "+-------------+-------+-----------------+---------------+\n",
      "| (intercept) |  None |   9306.4606221  | 1255976.06157 |\n",
      "|   power_1   |  None |  585.865823394  | 6003.28876462 |\n",
      "|   power_2   |  None | -0.397305895643 | 11.9613259026 |\n",
      "+-------------+-------+-----------------+---------------+\n",
      "[16 rows x 4 columns]\n",
      "\n",
      "+-------------+-------+-----------------+---------------+\n",
      "|     name    | index |      value      |     stderr    |\n",
      "+-------------+-------+-----------------+---------------+\n",
      "| (intercept) |  None |  -25115.9044254 | 1573017.12178 |\n",
      "|   power_1   |  None |   783.49380028  | 9293.98471763 |\n",
      "|   power_2   |  None | -0.767759302942 | 23.3971636819 |\n",
      "+-------------+-------+-----------------+---------------+\n",
      "[16 rows x 4 columns]\n",
      "\n",
      "+-------------+-------+----------------+--------+\n",
      "|     name    | index |     value      | stderr |\n",
      "+-------------+-------+----------------+--------+\n",
      "| (intercept) |  None | 462426.565731  |  nan   |\n",
      "|   power_1   |  None | -759.251842854 |  nan   |\n",
      "|   power_2   |  None |  1.0286700473  |  nan   |\n",
      "+-------------+-------+----------------+--------+\n",
      "[16 rows x 4 columns]\n",
      "\n",
      "+-------------+-------+----------------+---------------+\n",
      "|     name    | index |     value      |     stderr    |\n",
      "+-------------+-------+----------------+---------------+\n",
      "| (intercept) |  None | -170240.032842 | 1543796.62885 |\n",
      "|   power_1   |  None | 1247.59034541  | 9978.42791287 |\n",
      "|   power_2   |  None | -1.22460912177 | 26.7138477947 |\n",
      "+-------------+-------+----------------+---------------+\n",
      "[16 rows x 4 columns]\n",
      "\n"
     ]
    }
   ],
   "source": [
    "model_set_1.get(\"coefficients\").print_rows(3)\n",
    "model_set_2.get(\"coefficients\").print_rows(3)\n",
    "model_set_3.get(\"coefficients\").print_rows(3)\n",
    "model_set_4.get(\"coefficients\").print_rows(3)"
   ]
  },
  {
   "cell_type": "markdown",
   "metadata": {},
   "source": [
    "# Ridge regression comes to rescue"
   ]
  },
  {
   "cell_type": "markdown",
   "metadata": {},
   "source": [
    "Generally, whenever we see weights change so much in response to change in data, we believe the variance of our estimate to be large. Ridge regression aims to address this issue by penalizing \"large\" weights. (Weights of `model15` looked quite small, but they are not that small because 'sqft_living' input is in the order of thousands.)\n",
    "\n",
    "With the argument `l2_penalty=1e5`, fit a 15th-order polynomial model on `set_1`, `set_2`, `set_3`, and `set_4`. Other than the change in the `l2_penalty` parameter, the code should be the same as the experiment above. Also, make sure GraphLab Create doesn't create its own validation set by using the option `validation_set = None` in this call."
   ]
  },
  {
   "cell_type": "code",
   "execution_count": 17,
   "metadata": {
    "collapsed": true
   },
   "outputs": [],
   "source": [
    "l2_big_penalty=1e5"
   ]
  },
  {
   "cell_type": "code",
   "execution_count": 18,
   "metadata": {
    "scrolled": false
   },
   "outputs": [
    {
     "name": "stdout",
     "output_type": "stream",
     "text": [
      "+-------------+-------+------------------+---------------+\n",
      "|     name    | index |      value       |     stderr    |\n",
      "+-------------+-------+------------------+---------------+\n",
      "| (intercept) |  None |  530317.024516   | 1890090.19151 |\n",
      "|   power_1   |  None |  2.58738875673   | 9034.21455077 |\n",
      "|   power_2   |  None | 0.00127414400592 |  18.000330944 |\n",
      "+-------------+-------+------------------+---------------+\n",
      "[16 rows x 4 columns]\n",
      "\n"
     ]
    },
    {
     "data": {
      "text/plain": [
       "[<matplotlib.lines.Line2D at 0x111ad6650>,\n",
       " <matplotlib.lines.Line2D at 0x111ad6750>]"
      ]
     },
     "execution_count": 18,
     "metadata": {},
     "output_type": "execute_result"
    },
    {
     "data": {
      "image/png": "[encoded data removed]",
      "text/plain": [
       "<matplotlib.figure.Figure at 0x1139d7190>"
      ]
     },
     "metadata": {},
     "output_type": "display_data"
    }
   ],
   "source": [
    "model_set_1 = graphlab.linear_regression.create(poly_data_set_1, target='price', l2_penalty=l2_big_penalty, \n",
    "                                                features=poly_features_set_1, validation_set=None, verbose=False\n",
    "                                               )\n",
    "model_set_1.get(\"coefficients\").print_rows(3)\n",
    "plt.plot(poly_data_set_1['power_1'], poly_data_set_1['price'], '.',\n",
    "        poly_data_set_1['power_1'], model_set_1.predict(poly_data_set_1), '-')"
   ]
  },
  {
   "cell_type": "code",
   "execution_count": 19,
   "metadata": {
    "scrolled": false
   },
   "outputs": [
    {
     "name": "stdout",
     "output_type": "stream",
     "text": [
      "+-------------+-------+-----------------+---------------+\n",
      "|     name    | index |      value      |     stderr    |\n",
      "+-------------+-------+-----------------+---------------+\n",
      "| (intercept) |  None |  519216.897383  | 2167962.96521 |\n",
      "|   power_1   |  None |  2.04470474182  | 12809.1515268 |\n",
      "|   power_2   |  None | 0.0011314362684 | 32.2464286313 |\n",
      "+-------------+-------+-----------------+---------------+\n",
      "[16 rows x 4 columns]\n",
      "\n"
     ]
    },
    {
     "data": {
      "text/plain": [
       "[<matplotlib.lines.Line2D at 0x112412850>,\n",
       " <matplotlib.lines.Line2D at 0x112412950>]"
      ]
     },
     "execution_count": 19,
     "metadata": {},
     "output_type": "execute_result"
    },
    {
     "data": {
      "image/png": "[encoded data removed]",
      "text/plain": [
       "<matplotlib.figure.Figure at 0x116fbfe10>"
      ]
     },
     "metadata": {},
     "output_type": "display_data"
    }
   ],
   "source": [
    "model_set_2 = graphlab.linear_regression.create(poly_data_set_2, target='price', l2_penalty=l2_big_penalty, \n",
    "                                                features=poly_features_set_2, validation_set=None, verbose=False\n",
    "                                               )\n",
    "model_set_2.get(\"coefficients\").print_rows(3)\n",
    "plt.plot(poly_data_set_2['power_1'], poly_data_set_2['price'], '.',\n",
    "        poly_data_set_2['power_1'], model_set_2.predict(poly_data_set_2), '-')"
   ]
  },
  {
   "cell_type": "code",
   "execution_count": 20,
   "metadata": {},
   "outputs": [
    {
     "name": "stdout",
     "output_type": "stream",
     "text": [
      "+-------------+-------+------------------+--------+\n",
      "|     name    | index |      value       | stderr |\n",
      "+-------------+-------+------------------+--------+\n",
      "| (intercept) |  None |  522911.518048   |  nan   |\n",
      "|   power_1   |  None |  2.26890421877   |  nan   |\n",
      "|   power_2   |  None | 0.00125905041842 |  nan   |\n",
      "+-------------+-------+------------------+--------+\n",
      "[16 rows x 4 columns]\n",
      "\n"
     ]
    },
    {
     "data": {
      "text/plain": [
       "[<matplotlib.lines.Line2D at 0x110a7ae90>,\n",
       " <matplotlib.lines.Line2D at 0x110a7af90>]"
      ]
     },
     "execution_count": 20,
     "metadata": {},
     "output_type": "execute_result"
    },
    {
     "data": {
      "image/png": "[encoded data removed]",
      "text/plain": [
       "<matplotlib.figure.Figure at 0x11242f910>"
      ]
     },
     "metadata": {},
     "output_type": "display_data"
    }
   ],
   "source": [
    "model_set_3 = graphlab.linear_regression.create(poly_data_set_3, target='price', l2_penalty=l2_big_penalty, \n",
    "                                                features=poly_features_set_3, validation_set=None, verbose=False\n",
    "                                               )\n",
    "model_set_3.get(\"coefficients\").print_rows(3)\n",
    "plt.plot(poly_data_set_3['power_1'], poly_data_set_3['price'], '.',\n",
    "        poly_data_set_3['power_1'], model_set_3.predict(poly_data_set_3), '-')"
   ]
  },
  {
   "cell_type": "code",
   "execution_count": 21,
   "metadata": {},
   "outputs": [
    {
     "name": "stdout",
     "output_type": "stream",
     "text": [
      "+-------------+-------+------------------+---------------+\n",
      "|     name    | index |      value       |     stderr    |\n",
      "+-------------+-------+------------------+---------------+\n",
      "| (intercept) |  None |  513667.087087   | 2041482.90233 |\n",
      "|   power_1   |  None |  1.91040938244   | 13195.2548642 |\n",
      "|   power_2   |  None | 0.00110058029175 | 35.3258081465 |\n",
      "+-------------+-------+------------------+---------------+\n",
      "[16 rows x 4 columns]\n",
      "\n"
     ]
    },
    {
     "data": {
      "text/plain": [
       "[<matplotlib.lines.Line2D at 0x1133bf850>,\n",
       " <matplotlib.lines.Line2D at 0x1133bf950>]"
      ]
     },
     "execution_count": 21,
     "metadata": {},
     "output_type": "execute_result"
    },
    {
     "data": {
      "image/png": "[encoded data removed]",
      "text/plain": [
       "<matplotlib.figure.Figure at 0x111f56350>"
      ]
     },
     "metadata": {},
     "output_type": "display_data"
    }
   ],
   "source": [
    "model_set_4 = graphlab.linear_regression.create(poly_data_set_4, target='price', l2_penalty=l2_big_penalty, \n",
    "                                                features=poly_features_set_4, validation_set=None, verbose=False\n",
    "                                               )\n",
    "model_set_4.get(\"coefficients\").print_rows(3)\n",
    "plt.plot(poly_data_set_4['power_1'], poly_data_set_4['price'], '.',\n",
    "        poly_data_set_4['power_1'], model_set_4.predict(poly_data_set_4), '-')"
   ]
  },
  {
   "cell_type": "markdown",
   "metadata": {},
   "source": [
    "These curves should vary a lot less, now that you applied a high degree of regularization.\n",
    "\n",
    "***QUIZ QUESTION:  For the models learned with the high level of regularization in each of these training sets, what are the smallest and largest values you learned for the coefficient of feature `power_1`?*** (For the purpose of answering this question, negative numbers are considered \"smaller\" than positive numbers. So -5 is smaller than -3, and -3 is smaller than 5 and so forth.)"
   ]
  },
  {
   "cell_type": "markdown",
   "metadata": {},
   "source": [
    "# Selecting an L2 penalty via cross-validation"
   ]
  },
  {
   "cell_type": "markdown",
   "metadata": {},
   "source": [
    "Just like the polynomial degree, the L2 penalty is a \"magic\" parameter we need to select. We could use the validation set approach as we did in the last module, but that approach has a major disadvantage: it leaves fewer observations available for training. **Cross-validation** seeks to overcome this issue by using all of the training set in a smart way.\n",
    "\n",
    "We will implement a kind of cross-validation called **k-fold cross-validation**. The method gets its name because it involves dividing the training set into k segments of roughtly equal size. Similar to the validation set method, we measure the validation error with one of the segments designated as the validation set. The major difference is that we repeat the process k times as follows:\n",
    "\n",
    "Set aside segment 0 as the validation set, and fit a model on rest of data, and evalutate it on this validation set<br>\n",
    "Set aside segment 1 as the validation set, and fit a model on rest of data, and evalutate it on this validation set<br>\n",
    "...<br>\n",
    "Set aside segment k-1 as the validation set, and fit a model on rest of data, and evalutate it on this validation set\n",
    "\n",
    "After this process, we compute the average of the k validation errors, and use it as an estimate of the generalization error. Notice that  all observations are used for both training and validation, as we iterate over segments of data. \n",
    "\n",
    "To estimate the generalization error well, it is crucial to shuffle the training data before dividing them into segments. GraphLab Create has a utility function for shuffling a given SFrame. We reserve 10% of the data as the test set and shuffle the remainder. (Make sure to use `seed=1` to get consistent answer.)"
   ]
  },
  {
   "cell_type": "code",
   "execution_count": 31,
   "metadata": {
    "collapsed": true
   },
   "outputs": [],
   "source": [
    "(train_valid, test) = sales.random_split(.9, seed=1)\n",
    "train_valid_shuffled = graphlab.toolkits.cross_validation.shuffle(train_valid, random_seed=1)"
   ]
  },
  {
   "cell_type": "markdown",
   "metadata": {},
   "source": [
    "Once the data is shuffled, we divide it into equal segments. Each segment should receive `n/k` elements, where `n` is the number of observations in the training set and `k` is the number of segments. Since the segment 0 starts at index 0 and contains `n/k` elements, it ends at index `(n/k)-1`. The segment 1 starts where the segment 0 left off, at index `(n/k)`. With `n/k` elements, the segment 1 ends at index `(n*2/k)-1`. Continuing in this fashion, we deduce that the segment `i` starts at index `(n*i/k)` and ends at `(n*(i+1)/k)-1`."
   ]
  },
  {
   "cell_type": "markdown",
   "metadata": {},
   "source": [
    "With this pattern in mind, we write a short loop that prints the starting and ending indices of each segment, just to make sure you are getting the splits right."
   ]
  },
  {
   "cell_type": "code",
   "execution_count": 33,
   "metadata": {},
   "outputs": [
    {
     "name": "stdout",
     "output_type": "stream",
     "text": [
      "0 (0, 1938)\n",
      "1 (1939, 3878)\n",
      "2 (3879, 5817)\n",
      "3 (5818, 7757)\n",
      "4 (7758, 9697)\n",
      "5 (9698, 11636)\n",
      "6 (11637, 13576)\n",
      "7 (13577, 15515)\n",
      "8 (15516, 17455)\n",
      "9 (17456, 19395)\n"
     ]
    }
   ],
   "source": [
    "n = len(train_valid_shuffled)\n",
    "k = 10 # 10-fold cross-validation\n",
    "\n",
    "for i in xrange(k):\n",
    "    start = (n*i)/k\n",
    "    end = (n*(i+1))/k-1\n",
    "    print i, (start, end)"
   ]
  },
  {
   "cell_type": "markdown",
   "metadata": {},
   "source": [
    "Let us familiarize ourselves with array slicing with SFrame. To extract a continuous slice from an SFrame, use colon in square brackets. For instance, the following cell extracts rows 0 to 9 of `train_valid_shuffled`. Notice that the first index (0) is included in the slice but the last index (10) is omitted."
   ]
  },
  {
   "cell_type": "code",
   "execution_count": 34,
   "metadata": {},
   "outputs": [
    {
     "data": {
      "text/html": [
       "<div style=\"max-height:1000px;max-width:1500px;overflow:auto;\"><table frame=\"box\" rules=\"cols\">\n",
       "    <tr>\n",
       "        <th style=\"padding-left: 1em; padding-right: 1em; text-align: center\">id</th>\n",
       "        <th style=\"padding-left: 1em; padding-right: 1em; text-align: center\">date</th>\n",
       "        <th style=\"padding-left: 1em; padding-right: 1em; text-align: center\">price</th>\n",
       "        <th style=\"padding-left: 1em; padding-right: 1em; text-align: center\">bedrooms</th>\n",
       "        <th style=\"padding-left: 1em; padding-right: 1em; text-align: center\">bathrooms</th>\n",
       "        <th style=\"padding-left: 1em; padding-right: 1em; text-align: center\">sqft_living</th>\n",
       "        <th style=\"padding-left: 1em; padding-right: 1em; text-align: center\">sqft_lot</th>\n",
       "        <th style=\"padding-left: 1em; padding-right: 1em; text-align: center\">floors</th>\n",
       "        <th style=\"padding-left: 1em; padding-right: 1em; text-align: center\">waterfront</th>\n",
       "    </tr>\n",
       "    <tr>\n",
       "        <td style=\"padding-left: 1em; padding-right: 1em; text-align: center; vertical-align: top\">2780400035</td>\n",
       "        <td style=\"padding-left: 1em; padding-right: 1em; text-align: center; vertical-align: top\">2014-05-05 00:00:00+00:00</td>\n",
       "        <td style=\"padding-left: 1em; padding-right: 1em; text-align: center; vertical-align: top\">665000.0</td>\n",
       "        <td style=\"padding-left: 1em; padding-right: 1em; text-align: center; vertical-align: top\">4.0</td>\n",
       "        <td style=\"padding-left: 1em; padding-right: 1em; text-align: center; vertical-align: top\">2.5</td>\n",
       "        <td style=\"padding-left: 1em; padding-right: 1em; text-align: center; vertical-align: top\">2800.0</td>\n",
       "        <td style=\"padding-left: 1em; padding-right: 1em; text-align: center; vertical-align: top\">5900</td>\n",
       "        <td style=\"padding-left: 1em; padding-right: 1em; text-align: center; vertical-align: top\">1</td>\n",
       "        <td style=\"padding-left: 1em; padding-right: 1em; text-align: center; vertical-align: top\">0</td>\n",
       "    </tr>\n",
       "    <tr>\n",
       "        <td style=\"padding-left: 1em; padding-right: 1em; text-align: center; vertical-align: top\">1703050500</td>\n",
       "        <td style=\"padding-left: 1em; padding-right: 1em; text-align: center; vertical-align: top\">2015-03-21 00:00:00+00:00</td>\n",
       "        <td style=\"padding-left: 1em; padding-right: 1em; text-align: center; vertical-align: top\">645000.0</td>\n",
       "        <td style=\"padding-left: 1em; padding-right: 1em; text-align: center; vertical-align: top\">3.0</td>\n",
       "        <td style=\"padding-left: 1em; padding-right: 1em; text-align: center; vertical-align: top\">2.5</td>\n",
       "        <td style=\"padding-left: 1em; padding-right: 1em; text-align: center; vertical-align: top\">2490.0</td>\n",
       "        <td style=\"padding-left: 1em; padding-right: 1em; text-align: center; vertical-align: top\">5978</td>\n",
       "        <td style=\"padding-left: 1em; padding-right: 1em; text-align: center; vertical-align: top\">2</td>\n",
       "        <td style=\"padding-left: 1em; padding-right: 1em; text-align: center; vertical-align: top\">0</td>\n",
       "    </tr>\n",
       "    <tr>\n",
       "        <td style=\"padding-left: 1em; padding-right: 1em; text-align: center; vertical-align: top\">5700002325</td>\n",
       "        <td style=\"padding-left: 1em; padding-right: 1em; text-align: center; vertical-align: top\">2014-06-05 00:00:00+00:00</td>\n",
       "        <td style=\"padding-left: 1em; padding-right: 1em; text-align: center; vertical-align: top\">640000.0</td>\n",
       "        <td style=\"padding-left: 1em; padding-right: 1em; text-align: center; vertical-align: top\">3.0</td>\n",
       "        <td style=\"padding-left: 1em; padding-right: 1em; text-align: center; vertical-align: top\">1.75</td>\n",
       "        <td style=\"padding-left: 1em; padding-right: 1em; text-align: center; vertical-align: top\">2340.0</td>\n",
       "        <td style=\"padding-left: 1em; padding-right: 1em; text-align: center; vertical-align: top\">4206</td>\n",
       "        <td style=\"padding-left: 1em; padding-right: 1em; text-align: center; vertical-align: top\">1</td>\n",
       "        <td style=\"padding-left: 1em; padding-right: 1em; text-align: center; vertical-align: top\">0</td>\n",
       "    </tr>\n",
       "    <tr>\n",
       "        <td style=\"padding-left: 1em; padding-right: 1em; text-align: center; vertical-align: top\">0475000510</td>\n",
       "        <td style=\"padding-left: 1em; padding-right: 1em; text-align: center; vertical-align: top\">2014-11-18 00:00:00+00:00</td>\n",
       "        <td style=\"padding-left: 1em; padding-right: 1em; text-align: center; vertical-align: top\">594000.0</td>\n",
       "        <td style=\"padding-left: 1em; padding-right: 1em; text-align: center; vertical-align: top\">3.0</td>\n",
       "        <td style=\"padding-left: 1em; padding-right: 1em; text-align: center; vertical-align: top\">1.0</td>\n",
       "        <td style=\"padding-left: 1em; padding-right: 1em; text-align: center; vertical-align: top\">1320.0</td>\n",
       "        <td style=\"padding-left: 1em; padding-right: 1em; text-align: center; vertical-align: top\">5000</td>\n",
       "        <td style=\"padding-left: 1em; padding-right: 1em; text-align: center; vertical-align: top\">1</td>\n",
       "        <td style=\"padding-left: 1em; padding-right: 1em; text-align: center; vertical-align: top\">0</td>\n",
       "    </tr>\n",
       "    <tr>\n",
       "        <td style=\"padding-left: 1em; padding-right: 1em; text-align: center; vertical-align: top\">0844001052</td>\n",
       "        <td style=\"padding-left: 1em; padding-right: 1em; text-align: center; vertical-align: top\">2015-01-28 00:00:00+00:00</td>\n",
       "        <td style=\"padding-left: 1em; padding-right: 1em; text-align: center; vertical-align: top\">365000.0</td>\n",
       "        <td style=\"padding-left: 1em; padding-right: 1em; text-align: center; vertical-align: top\">4.0</td>\n",
       "        <td style=\"padding-left: 1em; padding-right: 1em; text-align: center; vertical-align: top\">2.5</td>\n",
       "        <td style=\"padding-left: 1em; padding-right: 1em; text-align: center; vertical-align: top\">1904.0</td>\n",
       "        <td style=\"padding-left: 1em; padding-right: 1em; text-align: center; vertical-align: top\">8200</td>\n",
       "        <td style=\"padding-left: 1em; padding-right: 1em; text-align: center; vertical-align: top\">2</td>\n",
       "        <td style=\"padding-left: 1em; padding-right: 1em; text-align: center; vertical-align: top\">0</td>\n",
       "    </tr>\n",
       "    <tr>\n",
       "        <td style=\"padding-left: 1em; padding-right: 1em; text-align: center; vertical-align: top\">2658000373</td>\n",
       "        <td style=\"padding-left: 1em; padding-right: 1em; text-align: center; vertical-align: top\">2015-01-22 00:00:00+00:00</td>\n",
       "        <td style=\"padding-left: 1em; padding-right: 1em; text-align: center; vertical-align: top\">305000.0</td>\n",
       "        <td style=\"padding-left: 1em; padding-right: 1em; text-align: center; vertical-align: top\">4.0</td>\n",
       "        <td style=\"padding-left: 1em; padding-right: 1em; text-align: center; vertical-align: top\">2.0</td>\n",
       "        <td style=\"padding-left: 1em; padding-right: 1em; text-align: center; vertical-align: top\">1610.0</td>\n",
       "        <td style=\"padding-left: 1em; padding-right: 1em; text-align: center; vertical-align: top\">6250</td>\n",
       "        <td style=\"padding-left: 1em; padding-right: 1em; text-align: center; vertical-align: top\">1</td>\n",
       "        <td style=\"padding-left: 1em; padding-right: 1em; text-align: center; vertical-align: top\">0</td>\n",
       "    </tr>\n",
       "    <tr>\n",
       "        <td style=\"padding-left: 1em; padding-right: 1em; text-align: center; vertical-align: top\">3750603471</td>\n",
       "        <td style=\"padding-left: 1em; padding-right: 1em; text-align: center; vertical-align: top\">2015-03-27 00:00:00+00:00</td>\n",
       "        <td style=\"padding-left: 1em; padding-right: 1em; text-align: center; vertical-align: top\">239950.0</td>\n",
       "        <td style=\"padding-left: 1em; padding-right: 1em; text-align: center; vertical-align: top\">3.0</td>\n",
       "        <td style=\"padding-left: 1em; padding-right: 1em; text-align: center; vertical-align: top\">2.5</td>\n",
       "        <td style=\"padding-left: 1em; padding-right: 1em; text-align: center; vertical-align: top\">1560.0</td>\n",
       "        <td style=\"padding-left: 1em; padding-right: 1em; text-align: center; vertical-align: top\">4800</td>\n",
       "        <td style=\"padding-left: 1em; padding-right: 1em; text-align: center; vertical-align: top\">2</td>\n",
       "        <td style=\"padding-left: 1em; padding-right: 1em; text-align: center; vertical-align: top\">0</td>\n",
       "    </tr>\n",
       "    <tr>\n",
       "        <td style=\"padding-left: 1em; padding-right: 1em; text-align: center; vertical-align: top\">2114700540</td>\n",
       "        <td style=\"padding-left: 1em; padding-right: 1em; text-align: center; vertical-align: top\">2014-10-21 00:00:00+00:00</td>\n",
       "        <td style=\"padding-left: 1em; padding-right: 1em; text-align: center; vertical-align: top\">366000.0</td>\n",
       "        <td style=\"padding-left: 1em; padding-right: 1em; text-align: center; vertical-align: top\">3.0</td>\n",
       "        <td style=\"padding-left: 1em; padding-right: 1em; text-align: center; vertical-align: top\">2.5</td>\n",
       "        <td style=\"padding-left: 1em; padding-right: 1em; text-align: center; vertical-align: top\">1320.0</td>\n",
       "        <td style=\"padding-left: 1em; padding-right: 1em; text-align: center; vertical-align: top\">4320</td>\n",
       "        <td style=\"padding-left: 1em; padding-right: 1em; text-align: center; vertical-align: top\">1</td>\n",
       "        <td style=\"padding-left: 1em; padding-right: 1em; text-align: center; vertical-align: top\">0</td>\n",
       "    </tr>\n",
       "    <tr>\n",
       "        <td style=\"padding-left: 1em; padding-right: 1em; text-align: center; vertical-align: top\">2596400050</td>\n",
       "        <td style=\"padding-left: 1em; padding-right: 1em; text-align: center; vertical-align: top\">2014-07-30 00:00:00+00:00</td>\n",
       "        <td style=\"padding-left: 1em; padding-right: 1em; text-align: center; vertical-align: top\">375000.0</td>\n",
       "        <td style=\"padding-left: 1em; padding-right: 1em; text-align: center; vertical-align: top\">3.0</td>\n",
       "        <td style=\"padding-left: 1em; padding-right: 1em; text-align: center; vertical-align: top\">1.0</td>\n",
       "        <td style=\"padding-left: 1em; padding-right: 1em; text-align: center; vertical-align: top\">1960.0</td>\n",
       "        <td style=\"padding-left: 1em; padding-right: 1em; text-align: center; vertical-align: top\">7955</td>\n",
       "        <td style=\"padding-left: 1em; padding-right: 1em; text-align: center; vertical-align: top\">1</td>\n",
       "        <td style=\"padding-left: 1em; padding-right: 1em; text-align: center; vertical-align: top\">0</td>\n",
       "    </tr>\n",
       "    <tr>\n",
       "        <td style=\"padding-left: 1em; padding-right: 1em; text-align: center; vertical-align: top\">4140900050</td>\n",
       "        <td style=\"padding-left: 1em; padding-right: 1em; text-align: center; vertical-align: top\">2015-01-26 00:00:00+00:00</td>\n",
       "        <td style=\"padding-left: 1em; padding-right: 1em; text-align: center; vertical-align: top\">440000.0</td>\n",
       "        <td style=\"padding-left: 1em; padding-right: 1em; text-align: center; vertical-align: top\">4.0</td>\n",
       "        <td style=\"padding-left: 1em; padding-right: 1em; text-align: center; vertical-align: top\">1.75</td>\n",
       "        <td style=\"padding-left: 1em; padding-right: 1em; text-align: center; vertical-align: top\">2180.0</td>\n",
       "        <td style=\"padding-left: 1em; padding-right: 1em; text-align: center; vertical-align: top\">10200</td>\n",
       "        <td style=\"padding-left: 1em; padding-right: 1em; text-align: center; vertical-align: top\">1</td>\n",
       "        <td style=\"padding-left: 1em; padding-right: 1em; text-align: center; vertical-align: top\">0</td>\n",
       "    </tr>\n",
       "</table>\n",
       "<table frame=\"box\" rules=\"cols\">\n",
       "    <tr>\n",
       "        <th style=\"padding-left: 1em; padding-right: 1em; text-align: center\">view</th>\n",
       "        <th style=\"padding-left: 1em; padding-right: 1em; text-align: center\">condition</th>\n",
       "        <th style=\"padding-left: 1em; padding-right: 1em; text-align: center\">grade</th>\n",
       "        <th style=\"padding-left: 1em; padding-right: 1em; text-align: center\">sqft_above</th>\n",
       "        <th style=\"padding-left: 1em; padding-right: 1em; text-align: center\">sqft_basement</th>\n",
       "        <th style=\"padding-left: 1em; padding-right: 1em; text-align: center\">yr_built</th>\n",
       "        <th style=\"padding-left: 1em; padding-right: 1em; text-align: center\">yr_renovated</th>\n",
       "        <th style=\"padding-left: 1em; padding-right: 1em; text-align: center\">zipcode</th>\n",
       "        <th style=\"padding-left: 1em; padding-right: 1em; text-align: center\">lat</th>\n",
       "    </tr>\n",
       "    <tr>\n",
       "        <td style=\"padding-left: 1em; padding-right: 1em; text-align: center; vertical-align: top\">0</td>\n",
       "        <td style=\"padding-left: 1em; padding-right: 1em; text-align: center; vertical-align: top\">3</td>\n",
       "        <td style=\"padding-left: 1em; padding-right: 1em; text-align: center; vertical-align: top\">8</td>\n",
       "        <td style=\"padding-left: 1em; padding-right: 1em; text-align: center; vertical-align: top\">1660</td>\n",
       "        <td style=\"padding-left: 1em; padding-right: 1em; text-align: center; vertical-align: top\">1140</td>\n",
       "        <td style=\"padding-left: 1em; padding-right: 1em; text-align: center; vertical-align: top\">1963</td>\n",
       "        <td style=\"padding-left: 1em; padding-right: 1em; text-align: center; vertical-align: top\">0</td>\n",
       "        <td style=\"padding-left: 1em; padding-right: 1em; text-align: center; vertical-align: top\">98115</td>\n",
       "        <td style=\"padding-left: 1em; padding-right: 1em; text-align: center; vertical-align: top\">47.68093246</td>\n",
       "    </tr>\n",
       "    <tr>\n",
       "        <td style=\"padding-left: 1em; padding-right: 1em; text-align: center; vertical-align: top\">0</td>\n",
       "        <td style=\"padding-left: 1em; padding-right: 1em; text-align: center; vertical-align: top\">3</td>\n",
       "        <td style=\"padding-left: 1em; padding-right: 1em; text-align: center; vertical-align: top\">9</td>\n",
       "        <td style=\"padding-left: 1em; padding-right: 1em; text-align: center; vertical-align: top\">2490</td>\n",
       "        <td style=\"padding-left: 1em; padding-right: 1em; text-align: center; vertical-align: top\">0</td>\n",
       "        <td style=\"padding-left: 1em; padding-right: 1em; text-align: center; vertical-align: top\">2003</td>\n",
       "        <td style=\"padding-left: 1em; padding-right: 1em; text-align: center; vertical-align: top\">0</td>\n",
       "        <td style=\"padding-left: 1em; padding-right: 1em; text-align: center; vertical-align: top\">98074</td>\n",
       "        <td style=\"padding-left: 1em; padding-right: 1em; text-align: center; vertical-align: top\">47.62984888</td>\n",
       "    </tr>\n",
       "    <tr>\n",
       "        <td style=\"padding-left: 1em; padding-right: 1em; text-align: center; vertical-align: top\">0</td>\n",
       "        <td style=\"padding-left: 1em; padding-right: 1em; text-align: center; vertical-align: top\">5</td>\n",
       "        <td style=\"padding-left: 1em; padding-right: 1em; text-align: center; vertical-align: top\">7</td>\n",
       "        <td style=\"padding-left: 1em; padding-right: 1em; text-align: center; vertical-align: top\">1170</td>\n",
       "        <td style=\"padding-left: 1em; padding-right: 1em; text-align: center; vertical-align: top\">1170</td>\n",
       "        <td style=\"padding-left: 1em; padding-right: 1em; text-align: center; vertical-align: top\">1917</td>\n",
       "        <td style=\"padding-left: 1em; padding-right: 1em; text-align: center; vertical-align: top\">0</td>\n",
       "        <td style=\"padding-left: 1em; padding-right: 1em; text-align: center; vertical-align: top\">98144</td>\n",
       "        <td style=\"padding-left: 1em; padding-right: 1em; text-align: center; vertical-align: top\">47.57587004</td>\n",
       "    </tr>\n",
       "    <tr>\n",
       "        <td style=\"padding-left: 1em; padding-right: 1em; text-align: center; vertical-align: top\">0</td>\n",
       "        <td style=\"padding-left: 1em; padding-right: 1em; text-align: center; vertical-align: top\">4</td>\n",
       "        <td style=\"padding-left: 1em; padding-right: 1em; text-align: center; vertical-align: top\">7</td>\n",
       "        <td style=\"padding-left: 1em; padding-right: 1em; text-align: center; vertical-align: top\">1090</td>\n",
       "        <td style=\"padding-left: 1em; padding-right: 1em; text-align: center; vertical-align: top\">230</td>\n",
       "        <td style=\"padding-left: 1em; padding-right: 1em; text-align: center; vertical-align: top\">1920</td>\n",
       "        <td style=\"padding-left: 1em; padding-right: 1em; text-align: center; vertical-align: top\">0</td>\n",
       "        <td style=\"padding-left: 1em; padding-right: 1em; text-align: center; vertical-align: top\">98107</td>\n",
       "        <td style=\"padding-left: 1em; padding-right: 1em; text-align: center; vertical-align: top\">47.66737217</td>\n",
       "    </tr>\n",
       "    <tr>\n",
       "        <td style=\"padding-left: 1em; padding-right: 1em; text-align: center; vertical-align: top\">0</td>\n",
       "        <td style=\"padding-left: 1em; padding-right: 1em; text-align: center; vertical-align: top\">5</td>\n",
       "        <td style=\"padding-left: 1em; padding-right: 1em; text-align: center; vertical-align: top\">7</td>\n",
       "        <td style=\"padding-left: 1em; padding-right: 1em; text-align: center; vertical-align: top\">1904</td>\n",
       "        <td style=\"padding-left: 1em; padding-right: 1em; text-align: center; vertical-align: top\">0</td>\n",
       "        <td style=\"padding-left: 1em; padding-right: 1em; text-align: center; vertical-align: top\">1999</td>\n",
       "        <td style=\"padding-left: 1em; padding-right: 1em; text-align: center; vertical-align: top\">0</td>\n",
       "        <td style=\"padding-left: 1em; padding-right: 1em; text-align: center; vertical-align: top\">98010</td>\n",
       "        <td style=\"padding-left: 1em; padding-right: 1em; text-align: center; vertical-align: top\">47.31068733</td>\n",
       "    </tr>\n",
       "    <tr>\n",
       "        <td style=\"padding-left: 1em; padding-right: 1em; text-align: center; vertical-align: top\">0</td>\n",
       "        <td style=\"padding-left: 1em; padding-right: 1em; text-align: center; vertical-align: top\">4</td>\n",
       "        <td style=\"padding-left: 1em; padding-right: 1em; text-align: center; vertical-align: top\">7</td>\n",
       "        <td style=\"padding-left: 1em; padding-right: 1em; text-align: center; vertical-align: top\">1610</td>\n",
       "        <td style=\"padding-left: 1em; padding-right: 1em; text-align: center; vertical-align: top\">0</td>\n",
       "        <td style=\"padding-left: 1em; padding-right: 1em; text-align: center; vertical-align: top\">1952</td>\n",
       "        <td style=\"padding-left: 1em; padding-right: 1em; text-align: center; vertical-align: top\">0</td>\n",
       "        <td style=\"padding-left: 1em; padding-right: 1em; text-align: center; vertical-align: top\">98118</td>\n",
       "        <td style=\"padding-left: 1em; padding-right: 1em; text-align: center; vertical-align: top\">47.52930128</td>\n",
       "    </tr>\n",
       "    <tr>\n",
       "        <td style=\"padding-left: 1em; padding-right: 1em; text-align: center; vertical-align: top\">0</td>\n",
       "        <td style=\"padding-left: 1em; padding-right: 1em; text-align: center; vertical-align: top\">4</td>\n",
       "        <td style=\"padding-left: 1em; padding-right: 1em; text-align: center; vertical-align: top\">7</td>\n",
       "        <td style=\"padding-left: 1em; padding-right: 1em; text-align: center; vertical-align: top\">1560</td>\n",
       "        <td style=\"padding-left: 1em; padding-right: 1em; text-align: center; vertical-align: top\">0</td>\n",
       "        <td style=\"padding-left: 1em; padding-right: 1em; text-align: center; vertical-align: top\">1974</td>\n",
       "        <td style=\"padding-left: 1em; padding-right: 1em; text-align: center; vertical-align: top\">0</td>\n",
       "        <td style=\"padding-left: 1em; padding-right: 1em; text-align: center; vertical-align: top\">98001</td>\n",
       "        <td style=\"padding-left: 1em; padding-right: 1em; text-align: center; vertical-align: top\">47.26533057</td>\n",
       "    </tr>\n",
       "    <tr>\n",
       "        <td style=\"padding-left: 1em; padding-right: 1em; text-align: center; vertical-align: top\">0</td>\n",
       "        <td style=\"padding-left: 1em; padding-right: 1em; text-align: center; vertical-align: top\">3</td>\n",
       "        <td style=\"padding-left: 1em; padding-right: 1em; text-align: center; vertical-align: top\">6</td>\n",
       "        <td style=\"padding-left: 1em; padding-right: 1em; text-align: center; vertical-align: top\">660</td>\n",
       "        <td style=\"padding-left: 1em; padding-right: 1em; text-align: center; vertical-align: top\">660</td>\n",
       "        <td style=\"padding-left: 1em; padding-right: 1em; text-align: center; vertical-align: top\">1918</td>\n",
       "        <td style=\"padding-left: 1em; padding-right: 1em; text-align: center; vertical-align: top\">0</td>\n",
       "        <td style=\"padding-left: 1em; padding-right: 1em; text-align: center; vertical-align: top\">98106</td>\n",
       "        <td style=\"padding-left: 1em; padding-right: 1em; text-align: center; vertical-align: top\">47.53271982</td>\n",
       "    </tr>\n",
       "    <tr>\n",
       "        <td style=\"padding-left: 1em; padding-right: 1em; text-align: center; vertical-align: top\">0</td>\n",
       "        <td style=\"padding-left: 1em; padding-right: 1em; text-align: center; vertical-align: top\">4</td>\n",
       "        <td style=\"padding-left: 1em; padding-right: 1em; text-align: center; vertical-align: top\">7</td>\n",
       "        <td style=\"padding-left: 1em; padding-right: 1em; text-align: center; vertical-align: top\">1260</td>\n",
       "        <td style=\"padding-left: 1em; padding-right: 1em; text-align: center; vertical-align: top\">700</td>\n",
       "        <td style=\"padding-left: 1em; padding-right: 1em; text-align: center; vertical-align: top\">1963</td>\n",
       "        <td style=\"padding-left: 1em; padding-right: 1em; text-align: center; vertical-align: top\">0</td>\n",
       "        <td style=\"padding-left: 1em; padding-right: 1em; text-align: center; vertical-align: top\">98177</td>\n",
       "        <td style=\"padding-left: 1em; padding-right: 1em; text-align: center; vertical-align: top\">47.76407345</td>\n",
       "    </tr>\n",
       "    <tr>\n",
       "        <td style=\"padding-left: 1em; padding-right: 1em; text-align: center; vertical-align: top\">2</td>\n",
       "        <td style=\"padding-left: 1em; padding-right: 1em; text-align: center; vertical-align: top\">3</td>\n",
       "        <td style=\"padding-left: 1em; padding-right: 1em; text-align: center; vertical-align: top\">8</td>\n",
       "        <td style=\"padding-left: 1em; padding-right: 1em; text-align: center; vertical-align: top\">2000</td>\n",
       "        <td style=\"padding-left: 1em; padding-right: 1em; text-align: center; vertical-align: top\">180</td>\n",
       "        <td style=\"padding-left: 1em; padding-right: 1em; text-align: center; vertical-align: top\">1966</td>\n",
       "        <td style=\"padding-left: 1em; padding-right: 1em; text-align: center; vertical-align: top\">0</td>\n",
       "        <td style=\"padding-left: 1em; padding-right: 1em; text-align: center; vertical-align: top\">98028</td>\n",
       "        <td style=\"padding-left: 1em; padding-right: 1em; text-align: center; vertical-align: top\">47.76382378</td>\n",
       "    </tr>\n",
       "</table>\n",
       "<table frame=\"box\" rules=\"cols\">\n",
       "    <tr>\n",
       "        <th style=\"padding-left: 1em; padding-right: 1em; text-align: center\">long</th>\n",
       "        <th style=\"padding-left: 1em; padding-right: 1em; text-align: center\">sqft_living15</th>\n",
       "        <th style=\"padding-left: 1em; padding-right: 1em; text-align: center\">sqft_lot15</th>\n",
       "    </tr>\n",
       "    <tr>\n",
       "        <td style=\"padding-left: 1em; padding-right: 1em; text-align: center; vertical-align: top\">-122.28583258</td>\n",
       "        <td style=\"padding-left: 1em; padding-right: 1em; text-align: center; vertical-align: top\">2580.0</td>\n",
       "        <td style=\"padding-left: 1em; padding-right: 1em; text-align: center; vertical-align: top\">5900.0</td>\n",
       "    </tr>\n",
       "    <tr>\n",
       "        <td style=\"padding-left: 1em; padding-right: 1em; text-align: center; vertical-align: top\">-122.02177564</td>\n",
       "        <td style=\"padding-left: 1em; padding-right: 1em; text-align: center; vertical-align: top\">2710.0</td>\n",
       "        <td style=\"padding-left: 1em; padding-right: 1em; text-align: center; vertical-align: top\">6629.0</td>\n",
       "    </tr>\n",
       "    <tr>\n",
       "        <td style=\"padding-left: 1em; padding-right: 1em; text-align: center; vertical-align: top\">-122.28796</td>\n",
       "        <td style=\"padding-left: 1em; padding-right: 1em; text-align: center; vertical-align: top\">1360.0</td>\n",
       "        <td style=\"padding-left: 1em; padding-right: 1em; text-align: center; vertical-align: top\">4725.0</td>\n",
       "    </tr>\n",
       "    <tr>\n",
       "        <td style=\"padding-left: 1em; padding-right: 1em; text-align: center; vertical-align: top\">-122.36472902</td>\n",
       "        <td style=\"padding-left: 1em; padding-right: 1em; text-align: center; vertical-align: top\">1700.0</td>\n",
       "        <td style=\"padding-left: 1em; padding-right: 1em; text-align: center; vertical-align: top\">5000.0</td>\n",
       "    </tr>\n",
       "    <tr>\n",
       "        <td style=\"padding-left: 1em; padding-right: 1em; text-align: center; vertical-align: top\">-122.0012452</td>\n",
       "        <td style=\"padding-left: 1em; padding-right: 1em; text-align: center; vertical-align: top\">1560.0</td>\n",
       "        <td style=\"padding-left: 1em; padding-right: 1em; text-align: center; vertical-align: top\">12426.0</td>\n",
       "    </tr>\n",
       "    <tr>\n",
       "        <td style=\"padding-left: 1em; padding-right: 1em; text-align: center; vertical-align: top\">-122.27097145</td>\n",
       "        <td style=\"padding-left: 1em; padding-right: 1em; text-align: center; vertical-align: top\">1310.0</td>\n",
       "        <td style=\"padding-left: 1em; padding-right: 1em; text-align: center; vertical-align: top\">6000.0</td>\n",
       "    </tr>\n",
       "    <tr>\n",
       "        <td style=\"padding-left: 1em; padding-right: 1em; text-align: center; vertical-align: top\">-122.28506088</td>\n",
       "        <td style=\"padding-left: 1em; padding-right: 1em; text-align: center; vertical-align: top\">1510.0</td>\n",
       "        <td style=\"padding-left: 1em; padding-right: 1em; text-align: center; vertical-align: top\">12240.0</td>\n",
       "    </tr>\n",
       "    <tr>\n",
       "        <td style=\"padding-left: 1em; padding-right: 1em; text-align: center; vertical-align: top\">-122.34716948</td>\n",
       "        <td style=\"padding-left: 1em; padding-right: 1em; text-align: center; vertical-align: top\">1190.0</td>\n",
       "        <td style=\"padding-left: 1em; padding-right: 1em; text-align: center; vertical-align: top\">4200.0</td>\n",
       "    </tr>\n",
       "    <tr>\n",
       "        <td style=\"padding-left: 1em; padding-right: 1em; text-align: center; vertical-align: top\">-122.36361517</td>\n",
       "        <td style=\"padding-left: 1em; padding-right: 1em; text-align: center; vertical-align: top\">1850.0</td>\n",
       "        <td style=\"padding-left: 1em; padding-right: 1em; text-align: center; vertical-align: top\">8219.0</td>\n",
       "    </tr>\n",
       "    <tr>\n",
       "        <td style=\"padding-left: 1em; padding-right: 1em; text-align: center; vertical-align: top\">-122.27022456</td>\n",
       "        <td style=\"padding-left: 1em; padding-right: 1em; text-align: center; vertical-align: top\">2590.0</td>\n",
       "        <td style=\"padding-left: 1em; padding-right: 1em; text-align: center; vertical-align: top\">10445.0</td>\n",
       "    </tr>\n",
       "</table>\n",
       "[10 rows x 21 columns]<br/>\n",
       "</div>"
      ],
      "text/plain": [
       "Columns:\n",
       "\tid\tstr\n",
       "\tdate\tdatetime\n",
       "\tprice\tfloat\n",
       "\tbedrooms\tfloat\n",
       "\tbathrooms\tfloat\n",
       "\tsqft_living\tfloat\n",
       "\tsqft_lot\tint\n",
       "\tfloors\tstr\n",
       "\twaterfront\tint\n",
       "\tview\tint\n",
       "\tcondition\tint\n",
       "\tgrade\tint\n",
       "\tsqft_above\tint\n",
       "\tsqft_basement\tint\n",
       "\tyr_built\tint\n",
       "\tyr_renovated\tint\n",
       "\tzipcode\tstr\n",
       "\tlat\tfloat\n",
       "\tlong\tfloat\n",
       "\tsqft_living15\tfloat\n",
       "\tsqft_lot15\tfloat\n",
       "\n",
       "Rows: 10\n",
       "\n",
       "Data:\n",
       "+------------+---------------------------+----------+----------+-----------+\n",
       "|     id     |            date           |  price   | bedrooms | bathrooms |\n",
       "+------------+---------------------------+----------+----------+-----------+\n",
       "| 2780400035 | 2014-05-05 00:00:00+00:00 | 665000.0 |   4.0    |    2.5    |\n",
       "| 1703050500 | 2015-03-21 00:00:00+00:00 | 645000.0 |   3.0    |    2.5    |\n",
       "| 5700002325 | 2014-06-05 00:00:00+00:00 | 640000.0 |   3.0    |    1.75   |\n",
       "| 0475000510 | 2014-11-18 00:00:00+00:00 | 594000.0 |   3.0    |    1.0    |\n",
       "| 0844001052 | 2015-01-28 00:00:00+00:00 | 365000.0 |   4.0    |    2.5    |\n",
       "| 2658000373 | 2015-01-22 00:00:00+00:00 | 305000.0 |   4.0    |    2.0    |\n",
       "| 3750603471 | 2015-03-27 00:00:00+00:00 | 239950.0 |   3.0    |    2.5    |\n",
       "| 2114700540 | 2014-10-21 00:00:00+00:00 | 366000.0 |   3.0    |    2.5    |\n",
       "| 2596400050 | 2014-07-30 00:00:00+00:00 | 375000.0 |   3.0    |    1.0    |\n",
       "| 4140900050 | 2015-01-26 00:00:00+00:00 | 440000.0 |   4.0    |    1.75   |\n",
       "+------------+---------------------------+----------+----------+-----------+\n",
       "+-------------+----------+--------+------------+------+-----------+-------+------------+\n",
       "| sqft_living | sqft_lot | floors | waterfront | view | condition | grade | sqft_above |\n",
       "+-------------+----------+--------+------------+------+-----------+-------+------------+\n",
       "|    2800.0   |   5900   |   1    |     0      |  0   |     3     |   8   |    1660    |\n",
       "|    2490.0   |   5978   |   2    |     0      |  0   |     3     |   9   |    2490    |\n",
       "|    2340.0   |   4206   |   1    |     0      |  0   |     5     |   7   |    1170    |\n",
       "|    1320.0   |   5000   |   1    |     0      |  0   |     4     |   7   |    1090    |\n",
       "|    1904.0   |   8200   |   2    |     0      |  0   |     5     |   7   |    1904    |\n",
       "|    1610.0   |   6250   |   1    |     0      |  0   |     4     |   7   |    1610    |\n",
       "|    1560.0   |   4800   |   2    |     0      |  0   |     4     |   7   |    1560    |\n",
       "|    1320.0   |   4320   |   1    |     0      |  0   |     3     |   6   |    660     |\n",
       "|    1960.0   |   7955   |   1    |     0      |  0   |     4     |   7   |    1260    |\n",
       "|    2180.0   |  10200   |   1    |     0      |  2   |     3     |   8   |    2000    |\n",
       "+-------------+----------+--------+------------+------+-----------+-------+------------+\n",
       "+---------------+----------+--------------+---------+-------------+\n",
       "| sqft_basement | yr_built | yr_renovated | zipcode |     lat     |\n",
       "+---------------+----------+--------------+---------+-------------+\n",
       "|      1140     |   1963   |      0       |  98115  | 47.68093246 |\n",
       "|       0       |   2003   |      0       |  98074  | 47.62984888 |\n",
       "|      1170     |   1917   |      0       |  98144  | 47.57587004 |\n",
       "|      230      |   1920   |      0       |  98107  | 47.66737217 |\n",
       "|       0       |   1999   |      0       |  98010  | 47.31068733 |\n",
       "|       0       |   1952   |      0       |  98118  | 47.52930128 |\n",
       "|       0       |   1974   |      0       |  98001  | 47.26533057 |\n",
       "|      660      |   1918   |      0       |  98106  | 47.53271982 |\n",
       "|      700      |   1963   |      0       |  98177  | 47.76407345 |\n",
       "|      180      |   1966   |      0       |  98028  | 47.76382378 |\n",
       "+---------------+----------+--------------+---------+-------------+\n",
       "+---------------+---------------+-----+\n",
       "|      long     | sqft_living15 | ... |\n",
       "+---------------+---------------+-----+\n",
       "| -122.28583258 |     2580.0    | ... |\n",
       "| -122.02177564 |     2710.0    | ... |\n",
       "|   -122.28796  |     1360.0    | ... |\n",
       "| -122.36472902 |     1700.0    | ... |\n",
       "|  -122.0012452 |     1560.0    | ... |\n",
       "| -122.27097145 |     1310.0    | ... |\n",
       "| -122.28506088 |     1510.0    | ... |\n",
       "| -122.34716948 |     1190.0    | ... |\n",
       "| -122.36361517 |     1850.0    | ... |\n",
       "| -122.27022456 |     2590.0    | ... |\n",
       "+---------------+---------------+-----+\n",
       "[10 rows x 21 columns]"
      ]
     },
     "execution_count": 34,
     "metadata": {},
     "output_type": "execute_result"
    }
   ],
   "source": [
    "train_valid_shuffled[0:10] # rows 0 to 9"
   ]
  },
  {
   "cell_type": "markdown",
   "metadata": {},
   "source": [
    "Now let us extract individual segments with array slicing. Consider the scenario where we group the houses in the `train_valid_shuffled` dataframe into k=10 segments of roughly equal size, with starting and ending indices computed as above.\n",
    "Extract the fourth segment (segment 3) and assign it to a variable called `validation4`."
   ]
  },
  {
   "cell_type": "code",
   "execution_count": 40,
   "metadata": {},
   "outputs": [
    {
     "name": "stdout",
     "output_type": "stream",
     "text": [
      "5818 7758\n"
     ]
    }
   ],
   "source": [
    "segment = 3\n",
    "start = n * segment /k\n",
    "end = n * (segment + 1) / k\n",
    "print start, end\n",
    "validation4 = train_valid_shuffled[start : end]\n",
    "#print validation4"
   ]
  },
  {
   "cell_type": "markdown",
   "metadata": {},
   "source": [
    "To verify that we have the right elements extracted, run the following cell, which computes the average price of the fourth segment. When rounded to nearest whole number, the average should be $536,234."
   ]
  },
  {
   "cell_type": "code",
   "execution_count": 41,
   "metadata": {},
   "outputs": [
    {
     "name": "stdout",
     "output_type": "stream",
     "text": [
      "536234\n"
     ]
    }
   ],
   "source": [
    "print int(round(validation4['price'].mean(), 0))"
   ]
  },
  {
   "cell_type": "markdown",
   "metadata": {},
   "source": [
    "After designating one of the k segments as the validation set, we train a model using the rest of the data. To choose the remainder, we slice (0:start) and (end+1:n) of the data and paste them together. SFrame has `append()` method that pastes together two disjoint sets of rows originating from a common dataset. For instance, the following cell pastes together the first and last two rows of the `train_valid_shuffled` dataframe."
   ]
  },
  {
   "cell_type": "code",
   "execution_count": 42,
   "metadata": {},
   "outputs": [
    {
     "name": "stdout",
     "output_type": "stream",
     "text": [
      "+------------+---------------------------+-----------+----------+-----------+\n",
      "|     id     |            date           |   price   | bedrooms | bathrooms |\n",
      "+------------+---------------------------+-----------+----------+-----------+\n",
      "| 2780400035 | 2014-05-05 00:00:00+00:00 |  665000.0 |   4.0    |    2.5    |\n",
      "| 1703050500 | 2015-03-21 00:00:00+00:00 |  645000.0 |   3.0    |    2.5    |\n",
      "| 4139480190 | 2014-09-16 00:00:00+00:00 | 1153000.0 |   3.0    |    3.25   |\n",
      "| 7237300290 | 2015-03-26 00:00:00+00:00 |  338000.0 |   5.0    |    2.5    |\n",
      "+------------+---------------------------+-----------+----------+-----------+\n",
      "+-------------+----------+--------+------------+------+-----------+-------+------------+\n",
      "| sqft_living | sqft_lot | floors | waterfront | view | condition | grade | sqft_above |\n",
      "+-------------+----------+--------+------------+------+-----------+-------+------------+\n",
      "|    2800.0   |   5900   |   1    |     0      |  0   |     3     |   8   |    1660    |\n",
      "|    2490.0   |   5978   |   2    |     0      |  0   |     3     |   9   |    2490    |\n",
      "|    3780.0   |  10623   |   1    |     0      |  1   |     3     |   11  |    2650    |\n",
      "|    2400.0   |   4496   |   2    |     0      |  0   |     3     |   7   |    2400    |\n",
      "+-------------+----------+--------+------------+------+-----------+-------+------------+\n",
      "+---------------+----------+--------------+---------+-------------+\n",
      "| sqft_basement | yr_built | yr_renovated | zipcode |     lat     |\n",
      "+---------------+----------+--------------+---------+-------------+\n",
      "|      1140     |   1963   |      0       |  98115  | 47.68093246 |\n",
      "|       0       |   2003   |      0       |  98074  | 47.62984888 |\n",
      "|      1130     |   1999   |      0       |  98006  | 47.55061236 |\n",
      "|       0       |   2004   |      0       |  98042  | 47.36923712 |\n",
      "+---------------+----------+--------------+---------+-------------+\n",
      "+---------------+---------------+-----+\n",
      "|      long     | sqft_living15 | ... |\n",
      "+---------------+---------------+-----+\n",
      "| -122.28583258 |     2580.0    | ... |\n",
      "| -122.02177564 |     2710.0    | ... |\n",
      "| -122.10144844 |     3850.0    | ... |\n",
      "| -122.12606473 |     1880.0    | ... |\n",
      "+---------------+---------------+-----+\n",
      "[4 rows x 21 columns]\n",
      "\n"
     ]
    }
   ],
   "source": [
    "n = len(train_valid_shuffled)\n",
    "first_two = train_valid_shuffled[0:2]\n",
    "last_two = train_valid_shuffled[n-2:n]\n",
    "print first_two.append(last_two)"
   ]
  },
  {
   "cell_type": "markdown",
   "metadata": {},
   "source": [
    "Extract the remainder of the data after *excluding* fourth segment (segment 3) and assign the subset to `train4`."
   ]
  },
  {
   "cell_type": "code",
   "execution_count": 43,
   "metadata": {
    "collapsed": true
   },
   "outputs": [],
   "source": [
    "first_part = train_valid_shuffled[0:start]\n",
    "last_part = train_valid_shuffled[end:n]\n",
    "train4 = first_part.append(last_part)"
   ]
  },
  {
   "cell_type": "markdown",
   "metadata": {},
   "source": [
    "To verify that we have the right elements extracted, run the following cell, which computes the average price of the data with fourth segment excluded. When rounded to nearest whole number, the average should be $539,450."
   ]
  },
  {
   "cell_type": "code",
   "execution_count": 44,
   "metadata": {},
   "outputs": [
    {
     "name": "stdout",
     "output_type": "stream",
     "text": [
      "539450\n"
     ]
    }
   ],
   "source": [
    "print int(round(train4['price'].mean(), 0))"
   ]
  },
  {
   "cell_type": "markdown",
   "metadata": {},
   "source": [
    "Now we are ready to implement k-fold cross-validation. Write a function that computes k validation errors by designating each of the k segments as the validation set. It accepts as parameters (i) `k`, (ii) `l2_penalty`, (iii) dataframe, (iv) name of output column (e.g. `price`) and (v) list of feature names. The function returns the average validation error using k segments as validation sets.\n",
    "\n",
    "* For each i in [0, 1, ..., k-1]:\n",
    "  * Compute starting and ending indices of segment i and call 'start' and 'end'\n",
    "  * Form validation set by taking a slice (start:end+1) from the data.\n",
    "  * Form training set by appending slice (end+1:n) to the end of slice (0:start).\n",
    "  * Train a linear model using training set just formed, with a given l2_penalty\n",
    "  * Compute validation error using validation set just formed"
   ]
  },
  {
   "cell_type": "code",
   "execution_count": 126,
   "metadata": {
    "collapsed": true
   },
   "outputs": [],
   "source": [
    "def get_residual_sum_of_squares(model, data, outcome):\n",
    "    # First get the predictions\n",
    "    predictions = model.predict(data)\n",
    "    # Then compute the residuals/errors\n",
    "    res = outcome - predictions\n",
    "    # Then square and add them up\n",
    "    sqt_res = res * res\n",
    "    RSS = sqt_res.sum()\n",
    "    return(RSS)  "
   ]
  },
  {
   "cell_type": "code",
   "execution_count": 147,
   "metadata": {
    "collapsed": true
   },
   "outputs": [],
   "source": [
    "def k_fold_cross_validation(k, l2_penalty, data, output_name, features_list):\n",
    "    train_valid_shuffled = graphlab.toolkits.cross_validation.shuffle(data, random_seed=1)\n",
    "    n = len(train_valid_shuffled)\n",
    "    error = 0\n",
    "    #print n, k\n",
    "    #print data\n",
    "    for i in xrange(k):\n",
    "        start = n * i / k\n",
    "        end = n * (i+1)/k\n",
    "        first_part = train_valid_shuffled[0:start]\n",
    "        valid_data = train_valid_shuffled[start:end]\n",
    "        second_part = train_valid_shuffled[end:n]\n",
    "        train_data = first_part.append(second_part)\n",
    "        print start, end, len(train_data), len(valid_data)\n",
    "        model = graphlab.linear_regression.create(train_data, target=output_name, l2_penalty=l2_penalty, \n",
    "                                                features=features_list, validation_set=None, verbose=False\n",
    "                                               )\n",
    "        #temp = valid_data[output_name] - model.predict(valid_data)\n",
    "        error = error + get_residual_sum_of_squares(model, valid_data, valid_data[output_name])\n",
    "        #error += abs(valid_data[output_name] - model.predict(valid_data)).sum()\n",
    "    error /= k\n",
    "    return error"
   ]
  },
  {
   "cell_type": "markdown",
   "metadata": {},
   "source": [
    "Once we have a function to compute the average validation error for a model, we can write a loop to find the model that minimizes the average validation error. Write a loop that does the following:\n",
    "* We will again be aiming to fit a 15th-order polynomial model using the `sqft_living` input\n",
    "* For `l2_penalty` in [10^1, 10^1.5, 10^2, 10^2.5, ..., 10^7] (to get this in Python, you can use this Numpy function: `np.logspace(1, 7, num=13)`.)\n",
    "    * Run 10-fold cross-validation with `l2_penalty`\n",
    "* Report which L2 penalty produced the lowest average validation error.\n",
    "\n",
    "Note: since the degree of the polynomial is now fixed to 15, to make things faster, you should generate polynomial features in advance and re-use them throughout the loop. Make sure to use `train_valid_shuffled` when generating polynomial features!"
   ]
  },
  {
   "cell_type": "code",
   "execution_count": 143,
   "metadata": {},
   "outputs": [
    {
     "name": "stdout",
     "output_type": "stream",
     "text": [
      "+---------+-----------+---------------+-------------------+-------------------+\n",
      "| power_1 |  power_2  |    power_3    |      power_4      |      power_5      |\n",
      "+---------+-----------+---------------+-------------------+-------------------+\n",
      "|  2800.0 | 7840000.0 | 21952000000.0 |    6.14656e+13    |   1.7210368e+17   |\n",
      "|  2490.0 | 6200100.0 | 15438249000.0 |  3.844124001e+13  | 9.57186876249e+16 |\n",
      "|  2340.0 | 5475600.0 | 12812904000.0 |  2.998219536e+13  | 7.01583371424e+16 |\n",
      "|  1320.0 | 1742400.0 |  2299968000.0 |   3.03595776e+12  |  4.0074642432e+15 |\n",
      "|  1904.0 | 3625216.0 |  6902411264.0 | 1.31421910467e+13 | 2.50227317528e+16 |\n",
      "|  1610.0 | 2592100.0 |  4173281000.0 |   6.71898241e+12  | 1.08175616801e+16 |\n",
      "|  1560.0 | 2433600.0 |  3796416000.0 |   5.92240896e+12  |  9.2389579776e+15 |\n",
      "|  1320.0 | 1742400.0 |  2299968000.0 |   3.03595776e+12  |  4.0074642432e+15 |\n",
      "|  1960.0 | 3841600.0 |  7529536000.0 |  1.475789056e+13  | 2.89254654976e+16 |\n",
      "|  2180.0 | 4752400.0 | 10360232000.0 |  2.258530576e+13  | 4.92359665568e+16 |\n",
      "+---------+-----------+---------------+-------------------+-------------------+\n",
      "+-------------------+-------------------+-------------------+-------------------+\n",
      "|      power_6      |      power_7      |      power_8      |      power_9      |\n",
      "+-------------------+-------------------+-------------------+-------------------+\n",
      "|   4.81890304e+20  |  1.3492928512e+24 | 3.77801998336e+27 | 1.05784559534e+31 |\n",
      "| 2.38339532186e+20 | 5.93465435143e+23 | 1.47772893351e+27 | 3.67954504443e+30 |\n",
      "| 1.64170508913e+20 | 3.84158990857e+23 | 8.98932038605e+26 | 2.10350097034e+30 |\n",
      "| 5.28985280102e+18 | 6.98260569735e+21 |  9.2170395205e+24 | 1.21664921671e+28 |\n",
      "| 4.76432812574e+19 | 9.07128075141e+22 | 1.72717185507e+26 | 3.28853521205e+29 |\n",
      "|  1.7416274305e+19 |  2.8040201631e+22 | 4.51447246259e+25 | 7.26830066477e+28 |\n",
      "| 1.44127744451e+19 | 2.24839281343e+22 | 3.50749278895e+25 | 5.47168875076e+28 |\n",
      "| 5.28985280102e+18 | 6.98260569735e+21 |  9.2170395205e+24 | 1.21664921671e+28 |\n",
      "| 5.66939123753e+19 | 1.11120068256e+23 | 2.17795333781e+26 | 4.26878854211e+29 |\n",
      "| 1.07334407094e+20 | 2.33989007465e+23 | 5.10096036273e+26 | 1.11200935907e+30 |\n",
      "+-------------------+-------------------+-------------------+-------------------+\n",
      "+-------------------+-------------------+-------------------+-------------------+\n",
      "|      power_10     |      power_11     |      power_12     |      power_13     |\n",
      "+-------------------+-------------------+-------------------+-------------------+\n",
      "| 2.96196766695e+34 | 8.29350946747e+37 | 2.32218265089e+41 |  6.5021114225e+44 |\n",
      "| 9.16206716063e+33 |  2.281354723e+37  | 5.68057326026e+40 | 1.41446274181e+44 |\n",
      "| 4.92219227059e+33 | 1.15179299132e+37 | 2.69519559968e+40 | 6.30675770326e+43 |\n",
      "| 1.60597696605e+31 | 2.11988959519e+34 | 2.79825426565e+37 | 3.69369563066e+40 |\n",
      "| 6.26137104374e+32 | 1.19216504673e+36 | 2.26988224897e+39 | 4.32185580204e+42 |\n",
      "| 1.17019640703e+32 | 1.88401621531e+35 | 3.03326610666e+38 | 4.88355843172e+41 |\n",
      "| 8.53583445119e+31 | 1.33159017438e+35 | 2.07728067204e+38 | 3.24055784838e+41 |\n",
      "| 1.60597696605e+31 | 2.11988959519e+34 | 2.79825426565e+37 | 3.69369563066e+40 |\n",
      "| 8.36682554253e+32 | 1.63989780634e+36 | 3.21419970042e+39 | 6.29983141282e+42 |\n",
      "| 2.42418040278e+33 | 5.28471327807e+36 | 1.15206749462e+40 | 2.51150713827e+43 |\n",
      "+-------------------+-------------------+-------------------+-------------------+\n",
      "+-------------------+-------------------+----------+\n",
      "|      power_14     |      power_15     |  price   |\n",
      "+-------------------+-------------------+----------+\n",
      "|  1.8205911983e+48 | 5.09765535524e+51 | 665000.0 |\n",
      "|  3.5220122271e+47 | 8.76981044547e+50 | 645000.0 |\n",
      "| 1.47578130256e+47 |  3.453328248e+50  | 640000.0 |\n",
      "| 4.87567823247e+43 | 6.43589526686e+46 | 594000.0 |\n",
      "| 8.22881344709e+45 | 1.56676608033e+49 | 365000.0 |\n",
      "| 7.86252907506e+44 | 1.26586718109e+48 | 305000.0 |\n",
      "| 5.05527024348e+44 | 7.88622157983e+47 | 239950.0 |\n",
      "| 4.87567823247e+43 | 6.43589526686e+46 | 366000.0 |\n",
      "| 1.23476695691e+46 | 2.42014323555e+49 | 375000.0 |\n",
      "| 5.47508556142e+46 | 1.19356865239e+50 | 440000.0 |\n",
      "+-------------------+-------------------+----------+\n",
      "[19396 rows x 16 columns]\n",
      "Note: Only the head of the SFrame is printed.\n",
      "You can use print_rows(num_rows=m, num_columns=n) to print more rows and columns.\n",
      "0 1939 17457 1939\n",
      "1939 3879 17456 1940\n",
      "3879 5818 17457 1939\n",
      "5818 7758 17456 1940\n",
      "7758 9698 17456 1940\n",
      "9698 11637 17457 1939\n",
      "11637 13577 17456 1940\n",
      "13577 15516 17457 1939\n",
      "15516 17456 17456 1940\n",
      "17456 19396 17456 1940\n",
      "L2 Penalty:  10.0 error:  5.39373448882e+14\n",
      "+---------+-----------+---------------+-------------------+-------------------+\n",
      "| power_1 |  power_2  |    power_3    |      power_4      |      power_5      |\n",
      "+---------+-----------+---------------+-------------------+-------------------+\n",
      "|  2800.0 | 7840000.0 | 21952000000.0 |    6.14656e+13    |   1.7210368e+17   |\n",
      "|  2490.0 | 6200100.0 | 15438249000.0 |  3.844124001e+13  | 9.57186876249e+16 |\n",
      "|  2340.0 | 5475600.0 | 12812904000.0 |  2.998219536e+13  | 7.01583371424e+16 |\n",
      "|  1320.0 | 1742400.0 |  2299968000.0 |   3.03595776e+12  |  4.0074642432e+15 |\n",
      "|  1904.0 | 3625216.0 |  6902411264.0 | 1.31421910467e+13 | 2.50227317528e+16 |\n",
      "|  1610.0 | 2592100.0 |  4173281000.0 |   6.71898241e+12  | 1.08175616801e+16 |\n",
      "|  1560.0 | 2433600.0 |  3796416000.0 |   5.92240896e+12  |  9.2389579776e+15 |\n",
      "|  1320.0 | 1742400.0 |  2299968000.0 |   3.03595776e+12  |  4.0074642432e+15 |\n",
      "|  1960.0 | 3841600.0 |  7529536000.0 |  1.475789056e+13  | 2.89254654976e+16 |\n",
      "|  2180.0 | 4752400.0 | 10360232000.0 |  2.258530576e+13  | 4.92359665568e+16 |\n",
      "+---------+-----------+---------------+-------------------+-------------------+\n",
      "+-------------------+-------------------+-------------------+-------------------+\n",
      "|      power_6      |      power_7      |      power_8      |      power_9      |\n",
      "+-------------------+-------------------+-------------------+-------------------+\n",
      "|   4.81890304e+20  |  1.3492928512e+24 | 3.77801998336e+27 | 1.05784559534e+31 |\n",
      "| 2.38339532186e+20 | 5.93465435143e+23 | 1.47772893351e+27 | 3.67954504443e+30 |\n",
      "| 1.64170508913e+20 | 3.84158990857e+23 | 8.98932038605e+26 | 2.10350097034e+30 |\n",
      "| 5.28985280102e+18 | 6.98260569735e+21 |  9.2170395205e+24 | 1.21664921671e+28 |\n",
      "| 4.76432812574e+19 | 9.07128075141e+22 | 1.72717185507e+26 | 3.28853521205e+29 |\n",
      "|  1.7416274305e+19 |  2.8040201631e+22 | 4.51447246259e+25 | 7.26830066477e+28 |\n",
      "| 1.44127744451e+19 | 2.24839281343e+22 | 3.50749278895e+25 | 5.47168875076e+28 |\n",
      "| 5.28985280102e+18 | 6.98260569735e+21 |  9.2170395205e+24 | 1.21664921671e+28 |\n",
      "| 5.66939123753e+19 | 1.11120068256e+23 | 2.17795333781e+26 | 4.26878854211e+29 |\n",
      "| 1.07334407094e+20 | 2.33989007465e+23 | 5.10096036273e+26 | 1.11200935907e+30 |\n",
      "+-------------------+-------------------+-------------------+-------------------+\n",
      "+-------------------+-------------------+-------------------+-------------------+\n",
      "|      power_10     |      power_11     |      power_12     |      power_13     |\n",
      "+-------------------+-------------------+-------------------+-------------------+\n",
      "| 2.96196766695e+34 | 8.29350946747e+37 | 2.32218265089e+41 |  6.5021114225e+44 |\n",
      "| 9.16206716063e+33 |  2.281354723e+37  | 5.68057326026e+40 | 1.41446274181e+44 |\n",
      "| 4.92219227059e+33 | 1.15179299132e+37 | 2.69519559968e+40 | 6.30675770326e+43 |\n",
      "| 1.60597696605e+31 | 2.11988959519e+34 | 2.79825426565e+37 | 3.69369563066e+40 |\n",
      "| 6.26137104374e+32 | 1.19216504673e+36 | 2.26988224897e+39 | 4.32185580204e+42 |\n",
      "| 1.17019640703e+32 | 1.88401621531e+35 | 3.03326610666e+38 | 4.88355843172e+41 |\n",
      "| 8.53583445119e+31 | 1.33159017438e+35 | 2.07728067204e+38 | 3.24055784838e+41 |\n",
      "| 1.60597696605e+31 | 2.11988959519e+34 | 2.79825426565e+37 | 3.69369563066e+40 |\n",
      "| 8.36682554253e+32 | 1.63989780634e+36 | 3.21419970042e+39 | 6.29983141282e+42 |\n",
      "| 2.42418040278e+33 | 5.28471327807e+36 | 1.15206749462e+40 | 2.51150713827e+43 |\n",
      "+-------------------+-------------------+-------------------+-------------------+\n",
      "+-------------------+-------------------+----------+\n",
      "|      power_14     |      power_15     |  price   |\n",
      "+-------------------+-------------------+----------+\n",
      "|  1.8205911983e+48 | 5.09765535524e+51 | 665000.0 |\n",
      "|  3.5220122271e+47 | 8.76981044547e+50 | 645000.0 |\n",
      "| 1.47578130256e+47 |  3.453328248e+50  | 640000.0 |\n",
      "| 4.87567823247e+43 | 6.43589526686e+46 | 594000.0 |\n",
      "| 8.22881344709e+45 | 1.56676608033e+49 | 365000.0 |\n",
      "| 7.86252907506e+44 | 1.26586718109e+48 | 305000.0 |\n",
      "| 5.05527024348e+44 | 7.88622157983e+47 | 239950.0 |\n",
      "| 4.87567823247e+43 | 6.43589526686e+46 | 366000.0 |\n",
      "| 1.23476695691e+46 | 2.42014323555e+49 | 375000.0 |\n",
      "| 5.47508556142e+46 | 1.19356865239e+50 | 440000.0 |\n",
      "+-------------------+-------------------+----------+\n",
      "[19396 rows x 16 columns]\n",
      "Note: Only the head of the SFrame is printed.\n",
      "You can use print_rows(num_rows=m, num_columns=n) to print more rows and columns.\n",
      "0 1939 17457 1939\n"
     ]
    },
    {
     "name": "stdout",
     "output_type": "stream",
     "text": [
      "1939 3879 17456 1940\n",
      "3879 5818 17457 1939\n",
      "5818 7758 17456 1940\n",
      "7758 9698 17456 1940\n",
      "9698 11637 17457 1939\n",
      "11637 13577 17456 1940\n",
      "13577 15516 17457 1939\n",
      "15516 17456 17456 1940\n",
      "17456 19396 17456 1940\n",
      "L2 Penalty:  31.6227766017 error:  3.03511496236e+14\n",
      "+---------+-----------+---------------+-------------------+-------------------+\n",
      "| power_1 |  power_2  |    power_3    |      power_4      |      power_5      |\n",
      "+---------+-----------+---------------+-------------------+-------------------+\n",
      "|  2800.0 | 7840000.0 | 21952000000.0 |    6.14656e+13    |   1.7210368e+17   |\n",
      "|  2490.0 | 6200100.0 | 15438249000.0 |  3.844124001e+13  | 9.57186876249e+16 |\n",
      "|  2340.0 | 5475600.0 | 12812904000.0 |  2.998219536e+13  | 7.01583371424e+16 |\n",
      "|  1320.0 | 1742400.0 |  2299968000.0 |   3.03595776e+12  |  4.0074642432e+15 |\n",
      "|  1904.0 | 3625216.0 |  6902411264.0 | 1.31421910467e+13 | 2.50227317528e+16 |\n",
      "|  1610.0 | 2592100.0 |  4173281000.0 |   6.71898241e+12  | 1.08175616801e+16 |\n",
      "|  1560.0 | 2433600.0 |  3796416000.0 |   5.92240896e+12  |  9.2389579776e+15 |\n",
      "|  1320.0 | 1742400.0 |  2299968000.0 |   3.03595776e+12  |  4.0074642432e+15 |\n",
      "|  1960.0 | 3841600.0 |  7529536000.0 |  1.475789056e+13  | 2.89254654976e+16 |\n",
      "|  2180.0 | 4752400.0 | 10360232000.0 |  2.258530576e+13  | 4.92359665568e+16 |\n",
      "+---------+-----------+---------------+-------------------+-------------------+\n",
      "+-------------------+-------------------+-------------------+-------------------+\n",
      "|      power_6      |      power_7      |      power_8      |      power_9      |\n",
      "+-------------------+-------------------+-------------------+-------------------+\n",
      "|   4.81890304e+20  |  1.3492928512e+24 | 3.77801998336e+27 | 1.05784559534e+31 |\n",
      "| 2.38339532186e+20 | 5.93465435143e+23 | 1.47772893351e+27 | 3.67954504443e+30 |\n",
      "| 1.64170508913e+20 | 3.84158990857e+23 | 8.98932038605e+26 | 2.10350097034e+30 |\n",
      "| 5.28985280102e+18 | 6.98260569735e+21 |  9.2170395205e+24 | 1.21664921671e+28 |\n",
      "| 4.76432812574e+19 | 9.07128075141e+22 | 1.72717185507e+26 | 3.28853521205e+29 |\n",
      "|  1.7416274305e+19 |  2.8040201631e+22 | 4.51447246259e+25 | 7.26830066477e+28 |\n",
      "| 1.44127744451e+19 | 2.24839281343e+22 | 3.50749278895e+25 | 5.47168875076e+28 |\n",
      "| 5.28985280102e+18 | 6.98260569735e+21 |  9.2170395205e+24 | 1.21664921671e+28 |\n",
      "| 5.66939123753e+19 | 1.11120068256e+23 | 2.17795333781e+26 | 4.26878854211e+29 |\n",
      "| 1.07334407094e+20 | 2.33989007465e+23 | 5.10096036273e+26 | 1.11200935907e+30 |\n",
      "+-------------------+-------------------+-------------------+-------------------+\n",
      "+-------------------+-------------------+-------------------+-------------------+\n",
      "|      power_10     |      power_11     |      power_12     |      power_13     |\n",
      "+-------------------+-------------------+-------------------+-------------------+\n",
      "| 2.96196766695e+34 | 8.29350946747e+37 | 2.32218265089e+41 |  6.5021114225e+44 |\n",
      "| 9.16206716063e+33 |  2.281354723e+37  | 5.68057326026e+40 | 1.41446274181e+44 |\n",
      "| 4.92219227059e+33 | 1.15179299132e+37 | 2.69519559968e+40 | 6.30675770326e+43 |\n",
      "| 1.60597696605e+31 | 2.11988959519e+34 | 2.79825426565e+37 | 3.69369563066e+40 |\n",
      "| 6.26137104374e+32 | 1.19216504673e+36 | 2.26988224897e+39 | 4.32185580204e+42 |\n",
      "| 1.17019640703e+32 | 1.88401621531e+35 | 3.03326610666e+38 | 4.88355843172e+41 |\n",
      "| 8.53583445119e+31 | 1.33159017438e+35 | 2.07728067204e+38 | 3.24055784838e+41 |\n",
      "| 1.60597696605e+31 | 2.11988959519e+34 | 2.79825426565e+37 | 3.69369563066e+40 |\n",
      "| 8.36682554253e+32 | 1.63989780634e+36 | 3.21419970042e+39 | 6.29983141282e+42 |\n",
      "| 2.42418040278e+33 | 5.28471327807e+36 | 1.15206749462e+40 | 2.51150713827e+43 |\n",
      "+-------------------+-------------------+-------------------+-------------------+\n",
      "+-------------------+-------------------+----------+\n",
      "|      power_14     |      power_15     |  price   |\n",
      "+-------------------+-------------------+----------+\n",
      "|  1.8205911983e+48 | 5.09765535524e+51 | 665000.0 |\n",
      "|  3.5220122271e+47 | 8.76981044547e+50 | 645000.0 |\n",
      "| 1.47578130256e+47 |  3.453328248e+50  | 640000.0 |\n",
      "| 4.87567823247e+43 | 6.43589526686e+46 | 594000.0 |\n",
      "| 8.22881344709e+45 | 1.56676608033e+49 | 365000.0 |\n",
      "| 7.86252907506e+44 | 1.26586718109e+48 | 305000.0 |\n",
      "| 5.05527024348e+44 | 7.88622157983e+47 | 239950.0 |\n",
      "| 4.87567823247e+43 | 6.43589526686e+46 | 366000.0 |\n",
      "| 1.23476695691e+46 | 2.42014323555e+49 | 375000.0 |\n",
      "| 5.47508556142e+46 | 1.19356865239e+50 | 440000.0 |\n",
      "+-------------------+-------------------+----------+\n",
      "[19396 rows x 16 columns]\n",
      "Note: Only the head of the SFrame is printed.\n",
      "You can use print_rows(num_rows=m, num_columns=n) to print more rows and columns.\n",
      "0 1939 17457 1939\n",
      "1939 3879 17456 1940\n",
      "3879 5818 17457 1939\n",
      "5818 7758 17456 1940\n",
      "7758 9698 17456 1940\n",
      "9698 11637 17457 1939\n",
      "11637 13577 17456 1940\n",
      "13577 15516 17457 1939\n",
      "15516 17456 17456 1940\n",
      "17456 19396 17456 1940\n",
      "L2 Penalty:  100.0 error:  1.63401061013e+14\n",
      "+---------+-----------+---------------+-------------------+-------------------+\n",
      "| power_1 |  power_2  |    power_3    |      power_4      |      power_5      |\n",
      "+---------+-----------+---------------+-------------------+-------------------+\n",
      "|  2800.0 | 7840000.0 | 21952000000.0 |    6.14656e+13    |   1.7210368e+17   |\n",
      "|  2490.0 | 6200100.0 | 15438249000.0 |  3.844124001e+13  | 9.57186876249e+16 |\n",
      "|  2340.0 | 5475600.0 | 12812904000.0 |  2.998219536e+13  | 7.01583371424e+16 |\n",
      "|  1320.0 | 1742400.0 |  2299968000.0 |   3.03595776e+12  |  4.0074642432e+15 |\n",
      "|  1904.0 | 3625216.0 |  6902411264.0 | 1.31421910467e+13 | 2.50227317528e+16 |\n",
      "|  1610.0 | 2592100.0 |  4173281000.0 |   6.71898241e+12  | 1.08175616801e+16 |\n",
      "|  1560.0 | 2433600.0 |  3796416000.0 |   5.92240896e+12  |  9.2389579776e+15 |\n",
      "|  1320.0 | 1742400.0 |  2299968000.0 |   3.03595776e+12  |  4.0074642432e+15 |\n",
      "|  1960.0 | 3841600.0 |  7529536000.0 |  1.475789056e+13  | 2.89254654976e+16 |\n",
      "|  2180.0 | 4752400.0 | 10360232000.0 |  2.258530576e+13  | 4.92359665568e+16 |\n",
      "+---------+-----------+---------------+-------------------+-------------------+\n",
      "+-------------------+-------------------+-------------------+-------------------+\n",
      "|      power_6      |      power_7      |      power_8      |      power_9      |\n",
      "+-------------------+-------------------+-------------------+-------------------+\n",
      "|   4.81890304e+20  |  1.3492928512e+24 | 3.77801998336e+27 | 1.05784559534e+31 |\n",
      "| 2.38339532186e+20 | 5.93465435143e+23 | 1.47772893351e+27 | 3.67954504443e+30 |\n",
      "| 1.64170508913e+20 | 3.84158990857e+23 | 8.98932038605e+26 | 2.10350097034e+30 |\n",
      "| 5.28985280102e+18 | 6.98260569735e+21 |  9.2170395205e+24 | 1.21664921671e+28 |\n",
      "| 4.76432812574e+19 | 9.07128075141e+22 | 1.72717185507e+26 | 3.28853521205e+29 |\n",
      "|  1.7416274305e+19 |  2.8040201631e+22 | 4.51447246259e+25 | 7.26830066477e+28 |\n",
      "| 1.44127744451e+19 | 2.24839281343e+22 | 3.50749278895e+25 | 5.47168875076e+28 |\n",
      "| 5.28985280102e+18 | 6.98260569735e+21 |  9.2170395205e+24 | 1.21664921671e+28 |\n",
      "| 5.66939123753e+19 | 1.11120068256e+23 | 2.17795333781e+26 | 4.26878854211e+29 |\n",
      "| 1.07334407094e+20 | 2.33989007465e+23 | 5.10096036273e+26 | 1.11200935907e+30 |\n",
      "+-------------------+-------------------+-------------------+-------------------+\n",
      "+-------------------+-------------------+-------------------+-------------------+\n",
      "|      power_10     |      power_11     |      power_12     |      power_13     |\n",
      "+-------------------+-------------------+-------------------+-------------------+\n",
      "| 2.96196766695e+34 | 8.29350946747e+37 | 2.32218265089e+41 |  6.5021114225e+44 |\n",
      "| 9.16206716063e+33 |  2.281354723e+37  | 5.68057326026e+40 | 1.41446274181e+44 |\n",
      "| 4.92219227059e+33 | 1.15179299132e+37 | 2.69519559968e+40 | 6.30675770326e+43 |\n",
      "| 1.60597696605e+31 | 2.11988959519e+34 | 2.79825426565e+37 | 3.69369563066e+40 |\n",
      "| 6.26137104374e+32 | 1.19216504673e+36 | 2.26988224897e+39 | 4.32185580204e+42 |\n",
      "| 1.17019640703e+32 | 1.88401621531e+35 | 3.03326610666e+38 | 4.88355843172e+41 |\n",
      "| 8.53583445119e+31 | 1.33159017438e+35 | 2.07728067204e+38 | 3.24055784838e+41 |\n",
      "| 1.60597696605e+31 | 2.11988959519e+34 | 2.79825426565e+37 | 3.69369563066e+40 |\n",
      "| 8.36682554253e+32 | 1.63989780634e+36 | 3.21419970042e+39 | 6.29983141282e+42 |\n",
      "| 2.42418040278e+33 | 5.28471327807e+36 | 1.15206749462e+40 | 2.51150713827e+43 |\n",
      "+-------------------+-------------------+-------------------+-------------------+\n",
      "+-------------------+-------------------+----------+\n",
      "|      power_14     |      power_15     |  price   |\n",
      "+-------------------+-------------------+----------+\n",
      "|  1.8205911983e+48 | 5.09765535524e+51 | 665000.0 |\n",
      "|  3.5220122271e+47 | 8.76981044547e+50 | 645000.0 |\n",
      "| 1.47578130256e+47 |  3.453328248e+50  | 640000.0 |\n",
      "| 4.87567823247e+43 | 6.43589526686e+46 | 594000.0 |\n",
      "| 8.22881344709e+45 | 1.56676608033e+49 | 365000.0 |\n",
      "| 7.86252907506e+44 | 1.26586718109e+48 | 305000.0 |\n",
      "| 5.05527024348e+44 | 7.88622157983e+47 | 239950.0 |\n",
      "| 4.87567823247e+43 | 6.43589526686e+46 | 366000.0 |\n",
      "| 1.23476695691e+46 | 2.42014323555e+49 | 375000.0 |\n",
      "| 5.47508556142e+46 | 1.19356865239e+50 | 440000.0 |\n",
      "+-------------------+-------------------+----------+\n",
      "[19396 rows x 16 columns]\n",
      "Note: Only the head of the SFrame is printed.\n",
      "You can use print_rows(num_rows=m, num_columns=n) to print more rows and columns.\n",
      "0 1939 17457 1939\n"
     ]
    },
    {
     "name": "stdout",
     "output_type": "stream",
     "text": [
      "1939 3879 17456 1940\n",
      "3879 5818 17457 1939\n",
      "5818 7758 17456 1940\n",
      "7758 9698 17456 1940\n",
      "9698 11637 17457 1939\n",
      "11637 13577 17456 1940\n",
      "13577 15516 17457 1939\n",
      "15516 17456 17456 1940\n",
      "17456 19396 17456 1940\n",
      "L2 Penalty:  316.227766017 error:  1.21774612755e+14\n",
      "+---------+-----------+---------------+-------------------+-------------------+\n",
      "| power_1 |  power_2  |    power_3    |      power_4      |      power_5      |\n",
      "+---------+-----------+---------------+-------------------+-------------------+\n",
      "|  2800.0 | 7840000.0 | 21952000000.0 |    6.14656e+13    |   1.7210368e+17   |\n",
      "|  2490.0 | 6200100.0 | 15438249000.0 |  3.844124001e+13  | 9.57186876249e+16 |\n",
      "|  2340.0 | 5475600.0 | 12812904000.0 |  2.998219536e+13  | 7.01583371424e+16 |\n",
      "|  1320.0 | 1742400.0 |  2299968000.0 |   3.03595776e+12  |  4.0074642432e+15 |\n",
      "|  1904.0 | 3625216.0 |  6902411264.0 | 1.31421910467e+13 | 2.50227317528e+16 |\n",
      "|  1610.0 | 2592100.0 |  4173281000.0 |   6.71898241e+12  | 1.08175616801e+16 |\n",
      "|  1560.0 | 2433600.0 |  3796416000.0 |   5.92240896e+12  |  9.2389579776e+15 |\n",
      "|  1320.0 | 1742400.0 |  2299968000.0 |   3.03595776e+12  |  4.0074642432e+15 |\n",
      "|  1960.0 | 3841600.0 |  7529536000.0 |  1.475789056e+13  | 2.89254654976e+16 |\n",
      "|  2180.0 | 4752400.0 | 10360232000.0 |  2.258530576e+13  | 4.92359665568e+16 |\n",
      "+---------+-----------+---------------+-------------------+-------------------+\n",
      "+-------------------+-------------------+-------------------+-------------------+\n",
      "|      power_6      |      power_7      |      power_8      |      power_9      |\n",
      "+-------------------+-------------------+-------------------+-------------------+\n",
      "|   4.81890304e+20  |  1.3492928512e+24 | 3.77801998336e+27 | 1.05784559534e+31 |\n",
      "| 2.38339532186e+20 | 5.93465435143e+23 | 1.47772893351e+27 | 3.67954504443e+30 |\n",
      "| 1.64170508913e+20 | 3.84158990857e+23 | 8.98932038605e+26 | 2.10350097034e+30 |\n",
      "| 5.28985280102e+18 | 6.98260569735e+21 |  9.2170395205e+24 | 1.21664921671e+28 |\n",
      "| 4.76432812574e+19 | 9.07128075141e+22 | 1.72717185507e+26 | 3.28853521205e+29 |\n",
      "|  1.7416274305e+19 |  2.8040201631e+22 | 4.51447246259e+25 | 7.26830066477e+28 |\n",
      "| 1.44127744451e+19 | 2.24839281343e+22 | 3.50749278895e+25 | 5.47168875076e+28 |\n",
      "| 5.28985280102e+18 | 6.98260569735e+21 |  9.2170395205e+24 | 1.21664921671e+28 |\n",
      "| 5.66939123753e+19 | 1.11120068256e+23 | 2.17795333781e+26 | 4.26878854211e+29 |\n",
      "| 1.07334407094e+20 | 2.33989007465e+23 | 5.10096036273e+26 | 1.11200935907e+30 |\n",
      "+-------------------+-------------------+-------------------+-------------------+\n",
      "+-------------------+-------------------+-------------------+-------------------+\n",
      "|      power_10     |      power_11     |      power_12     |      power_13     |\n",
      "+-------------------+-------------------+-------------------+-------------------+\n",
      "| 2.96196766695e+34 | 8.29350946747e+37 | 2.32218265089e+41 |  6.5021114225e+44 |\n",
      "| 9.16206716063e+33 |  2.281354723e+37  | 5.68057326026e+40 | 1.41446274181e+44 |\n",
      "| 4.92219227059e+33 | 1.15179299132e+37 | 2.69519559968e+40 | 6.30675770326e+43 |\n",
      "| 1.60597696605e+31 | 2.11988959519e+34 | 2.79825426565e+37 | 3.69369563066e+40 |\n",
      "| 6.26137104374e+32 | 1.19216504673e+36 | 2.26988224897e+39 | 4.32185580204e+42 |\n",
      "| 1.17019640703e+32 | 1.88401621531e+35 | 3.03326610666e+38 | 4.88355843172e+41 |\n",
      "| 8.53583445119e+31 | 1.33159017438e+35 | 2.07728067204e+38 | 3.24055784838e+41 |\n",
      "| 1.60597696605e+31 | 2.11988959519e+34 | 2.79825426565e+37 | 3.69369563066e+40 |\n",
      "| 8.36682554253e+32 | 1.63989780634e+36 | 3.21419970042e+39 | 6.29983141282e+42 |\n",
      "| 2.42418040278e+33 | 5.28471327807e+36 | 1.15206749462e+40 | 2.51150713827e+43 |\n",
      "+-------------------+-------------------+-------------------+-------------------+\n",
      "+-------------------+-------------------+----------+\n",
      "|      power_14     |      power_15     |  price   |\n",
      "+-------------------+-------------------+----------+\n",
      "|  1.8205911983e+48 | 5.09765535524e+51 | 665000.0 |\n",
      "|  3.5220122271e+47 | 8.76981044547e+50 | 645000.0 |\n",
      "| 1.47578130256e+47 |  3.453328248e+50  | 640000.0 |\n",
      "| 4.87567823247e+43 | 6.43589526686e+46 | 594000.0 |\n",
      "| 8.22881344709e+45 | 1.56676608033e+49 | 365000.0 |\n",
      "| 7.86252907506e+44 | 1.26586718109e+48 | 305000.0 |\n",
      "| 5.05527024348e+44 | 7.88622157983e+47 | 239950.0 |\n",
      "| 4.87567823247e+43 | 6.43589526686e+46 | 366000.0 |\n",
      "| 1.23476695691e+46 | 2.42014323555e+49 | 375000.0 |\n",
      "| 5.47508556142e+46 | 1.19356865239e+50 | 440000.0 |\n",
      "+-------------------+-------------------+----------+\n",
      "[19396 rows x 16 columns]\n",
      "Note: Only the head of the SFrame is printed.\n",
      "You can use print_rows(num_rows=m, num_columns=n) to print more rows and columns.\n",
      "0 1939 17457 1939\n",
      "1939 3879 17456 1940\n",
      "3879 5818 17457 1939\n",
      "5818 7758 17456 1940\n",
      "7758 9698 17456 1940\n",
      "9698 11637 17457 1939\n",
      "11637 13577 17456 1940\n",
      "13577 15516 17457 1939\n",
      "15516 17456 17456 1940\n",
      "17456 19396 17456 1940\n",
      "L2 Penalty:  1000.0 error:  1.21932075963e+14\n",
      "+---------+-----------+---------------+-------------------+-------------------+\n",
      "| power_1 |  power_2  |    power_3    |      power_4      |      power_5      |\n",
      "+---------+-----------+---------------+-------------------+-------------------+\n",
      "|  2800.0 | 7840000.0 | 21952000000.0 |    6.14656e+13    |   1.7210368e+17   |\n",
      "|  2490.0 | 6200100.0 | 15438249000.0 |  3.844124001e+13  | 9.57186876249e+16 |\n",
      "|  2340.0 | 5475600.0 | 12812904000.0 |  2.998219536e+13  | 7.01583371424e+16 |\n",
      "|  1320.0 | 1742400.0 |  2299968000.0 |   3.03595776e+12  |  4.0074642432e+15 |\n",
      "|  1904.0 | 3625216.0 |  6902411264.0 | 1.31421910467e+13 | 2.50227317528e+16 |\n",
      "|  1610.0 | 2592100.0 |  4173281000.0 |   6.71898241e+12  | 1.08175616801e+16 |\n",
      "|  1560.0 | 2433600.0 |  3796416000.0 |   5.92240896e+12  |  9.2389579776e+15 |\n",
      "|  1320.0 | 1742400.0 |  2299968000.0 |   3.03595776e+12  |  4.0074642432e+15 |\n",
      "|  1960.0 | 3841600.0 |  7529536000.0 |  1.475789056e+13  | 2.89254654976e+16 |\n",
      "|  2180.0 | 4752400.0 | 10360232000.0 |  2.258530576e+13  | 4.92359665568e+16 |\n",
      "+---------+-----------+---------------+-------------------+-------------------+\n",
      "+-------------------+-------------------+-------------------+-------------------+\n",
      "|      power_6      |      power_7      |      power_8      |      power_9      |\n",
      "+-------------------+-------------------+-------------------+-------------------+\n",
      "|   4.81890304e+20  |  1.3492928512e+24 | 3.77801998336e+27 | 1.05784559534e+31 |\n",
      "| 2.38339532186e+20 | 5.93465435143e+23 | 1.47772893351e+27 | 3.67954504443e+30 |\n",
      "| 1.64170508913e+20 | 3.84158990857e+23 | 8.98932038605e+26 | 2.10350097034e+30 |\n",
      "| 5.28985280102e+18 | 6.98260569735e+21 |  9.2170395205e+24 | 1.21664921671e+28 |\n",
      "| 4.76432812574e+19 | 9.07128075141e+22 | 1.72717185507e+26 | 3.28853521205e+29 |\n",
      "|  1.7416274305e+19 |  2.8040201631e+22 | 4.51447246259e+25 | 7.26830066477e+28 |\n",
      "| 1.44127744451e+19 | 2.24839281343e+22 | 3.50749278895e+25 | 5.47168875076e+28 |\n",
      "| 5.28985280102e+18 | 6.98260569735e+21 |  9.2170395205e+24 | 1.21664921671e+28 |\n",
      "| 5.66939123753e+19 | 1.11120068256e+23 | 2.17795333781e+26 | 4.26878854211e+29 |\n",
      "| 1.07334407094e+20 | 2.33989007465e+23 | 5.10096036273e+26 | 1.11200935907e+30 |\n",
      "+-------------------+-------------------+-------------------+-------------------+\n",
      "+-------------------+-------------------+-------------------+-------------------+\n",
      "|      power_10     |      power_11     |      power_12     |      power_13     |\n",
      "+-------------------+-------------------+-------------------+-------------------+\n",
      "| 2.96196766695e+34 | 8.29350946747e+37 | 2.32218265089e+41 |  6.5021114225e+44 |\n",
      "| 9.16206716063e+33 |  2.281354723e+37  | 5.68057326026e+40 | 1.41446274181e+44 |\n",
      "| 4.92219227059e+33 | 1.15179299132e+37 | 2.69519559968e+40 | 6.30675770326e+43 |\n",
      "| 1.60597696605e+31 | 2.11988959519e+34 | 2.79825426565e+37 | 3.69369563066e+40 |\n",
      "| 6.26137104374e+32 | 1.19216504673e+36 | 2.26988224897e+39 | 4.32185580204e+42 |\n",
      "| 1.17019640703e+32 | 1.88401621531e+35 | 3.03326610666e+38 | 4.88355843172e+41 |\n",
      "| 8.53583445119e+31 | 1.33159017438e+35 | 2.07728067204e+38 | 3.24055784838e+41 |\n",
      "| 1.60597696605e+31 | 2.11988959519e+34 | 2.79825426565e+37 | 3.69369563066e+40 |\n",
      "| 8.36682554253e+32 | 1.63989780634e+36 | 3.21419970042e+39 | 6.29983141282e+42 |\n",
      "| 2.42418040278e+33 | 5.28471327807e+36 | 1.15206749462e+40 | 2.51150713827e+43 |\n",
      "+-------------------+-------------------+-------------------+-------------------+\n",
      "+-------------------+-------------------+----------+\n",
      "|      power_14     |      power_15     |  price   |\n",
      "+-------------------+-------------------+----------+\n",
      "|  1.8205911983e+48 | 5.09765535524e+51 | 665000.0 |\n",
      "|  3.5220122271e+47 | 8.76981044547e+50 | 645000.0 |\n",
      "| 1.47578130256e+47 |  3.453328248e+50  | 640000.0 |\n",
      "| 4.87567823247e+43 | 6.43589526686e+46 | 594000.0 |\n",
      "| 8.22881344709e+45 | 1.56676608033e+49 | 365000.0 |\n",
      "| 7.86252907506e+44 | 1.26586718109e+48 | 305000.0 |\n",
      "| 5.05527024348e+44 | 7.88622157983e+47 | 239950.0 |\n",
      "| 4.87567823247e+43 | 6.43589526686e+46 | 366000.0 |\n",
      "| 1.23476695691e+46 | 2.42014323555e+49 | 375000.0 |\n",
      "| 5.47508556142e+46 | 1.19356865239e+50 | 440000.0 |\n",
      "+-------------------+-------------------+----------+\n",
      "[19396 rows x 16 columns]\n",
      "Note: Only the head of the SFrame is printed.\n",
      "You can use print_rows(num_rows=m, num_columns=n) to print more rows and columns.\n",
      "0 1939 17457 1939\n",
      "1939 3879 17456 1940\n"
     ]
    },
    {
     "name": "stdout",
     "output_type": "stream",
     "text": [
      "3879 5818 17457 1939\n",
      "5818 7758 17456 1940\n",
      "7758 9698 17456 1940\n",
      "9698 11637 17457 1939\n",
      "11637 13577 17456 1940\n",
      "13577 15516 17457 1939\n",
      "15516 17456 17456 1940\n",
      "17456 19396 17456 1940\n",
      "L2 Penalty:  3162.27766017 error:  1.24122158049e+14\n",
      "+---------+-----------+---------------+-------------------+-------------------+\n",
      "| power_1 |  power_2  |    power_3    |      power_4      |      power_5      |\n",
      "+---------+-----------+---------------+-------------------+-------------------+\n",
      "|  2800.0 | 7840000.0 | 21952000000.0 |    6.14656e+13    |   1.7210368e+17   |\n",
      "|  2490.0 | 6200100.0 | 15438249000.0 |  3.844124001e+13  | 9.57186876249e+16 |\n",
      "|  2340.0 | 5475600.0 | 12812904000.0 |  2.998219536e+13  | 7.01583371424e+16 |\n",
      "|  1320.0 | 1742400.0 |  2299968000.0 |   3.03595776e+12  |  4.0074642432e+15 |\n",
      "|  1904.0 | 3625216.0 |  6902411264.0 | 1.31421910467e+13 | 2.50227317528e+16 |\n",
      "|  1610.0 | 2592100.0 |  4173281000.0 |   6.71898241e+12  | 1.08175616801e+16 |\n",
      "|  1560.0 | 2433600.0 |  3796416000.0 |   5.92240896e+12  |  9.2389579776e+15 |\n",
      "|  1320.0 | 1742400.0 |  2299968000.0 |   3.03595776e+12  |  4.0074642432e+15 |\n",
      "|  1960.0 | 3841600.0 |  7529536000.0 |  1.475789056e+13  | 2.89254654976e+16 |\n",
      "|  2180.0 | 4752400.0 | 10360232000.0 |  2.258530576e+13  | 4.92359665568e+16 |\n",
      "+---------+-----------+---------------+-------------------+-------------------+\n",
      "+-------------------+-------------------+-------------------+-------------------+\n",
      "|      power_6      |      power_7      |      power_8      |      power_9      |\n",
      "+-------------------+-------------------+-------------------+-------------------+\n",
      "|   4.81890304e+20  |  1.3492928512e+24 | 3.77801998336e+27 | 1.05784559534e+31 |\n",
      "| 2.38339532186e+20 | 5.93465435143e+23 | 1.47772893351e+27 | 3.67954504443e+30 |\n",
      "| 1.64170508913e+20 | 3.84158990857e+23 | 8.98932038605e+26 | 2.10350097034e+30 |\n",
      "| 5.28985280102e+18 | 6.98260569735e+21 |  9.2170395205e+24 | 1.21664921671e+28 |\n",
      "| 4.76432812574e+19 | 9.07128075141e+22 | 1.72717185507e+26 | 3.28853521205e+29 |\n",
      "|  1.7416274305e+19 |  2.8040201631e+22 | 4.51447246259e+25 | 7.26830066477e+28 |\n",
      "| 1.44127744451e+19 | 2.24839281343e+22 | 3.50749278895e+25 | 5.47168875076e+28 |\n",
      "| 5.28985280102e+18 | 6.98260569735e+21 |  9.2170395205e+24 | 1.21664921671e+28 |\n",
      "| 5.66939123753e+19 | 1.11120068256e+23 | 2.17795333781e+26 | 4.26878854211e+29 |\n",
      "| 1.07334407094e+20 | 2.33989007465e+23 | 5.10096036273e+26 | 1.11200935907e+30 |\n",
      "+-------------------+-------------------+-------------------+-------------------+\n",
      "+-------------------+-------------------+-------------------+-------------------+\n",
      "|      power_10     |      power_11     |      power_12     |      power_13     |\n",
      "+-------------------+-------------------+-------------------+-------------------+\n",
      "| 2.96196766695e+34 | 8.29350946747e+37 | 2.32218265089e+41 |  6.5021114225e+44 |\n",
      "| 9.16206716063e+33 |  2.281354723e+37  | 5.68057326026e+40 | 1.41446274181e+44 |\n",
      "| 4.92219227059e+33 | 1.15179299132e+37 | 2.69519559968e+40 | 6.30675770326e+43 |\n",
      "| 1.60597696605e+31 | 2.11988959519e+34 | 2.79825426565e+37 | 3.69369563066e+40 |\n",
      "| 6.26137104374e+32 | 1.19216504673e+36 | 2.26988224897e+39 | 4.32185580204e+42 |\n",
      "| 1.17019640703e+32 | 1.88401621531e+35 | 3.03326610666e+38 | 4.88355843172e+41 |\n",
      "| 8.53583445119e+31 | 1.33159017438e+35 | 2.07728067204e+38 | 3.24055784838e+41 |\n",
      "| 1.60597696605e+31 | 2.11988959519e+34 | 2.79825426565e+37 | 3.69369563066e+40 |\n",
      "| 8.36682554253e+32 | 1.63989780634e+36 | 3.21419970042e+39 | 6.29983141282e+42 |\n",
      "| 2.42418040278e+33 | 5.28471327807e+36 | 1.15206749462e+40 | 2.51150713827e+43 |\n",
      "+-------------------+-------------------+-------------------+-------------------+\n",
      "+-------------------+-------------------+----------+\n",
      "|      power_14     |      power_15     |  price   |\n",
      "+-------------------+-------------------+----------+\n",
      "|  1.8205911983e+48 | 5.09765535524e+51 | 665000.0 |\n",
      "|  3.5220122271e+47 | 8.76981044547e+50 | 645000.0 |\n",
      "| 1.47578130256e+47 |  3.453328248e+50  | 640000.0 |\n",
      "| 4.87567823247e+43 | 6.43589526686e+46 | 594000.0 |\n",
      "| 8.22881344709e+45 | 1.56676608033e+49 | 365000.0 |\n",
      "| 7.86252907506e+44 | 1.26586718109e+48 | 305000.0 |\n",
      "| 5.05527024348e+44 | 7.88622157983e+47 | 239950.0 |\n",
      "| 4.87567823247e+43 | 6.43589526686e+46 | 366000.0 |\n",
      "| 1.23476695691e+46 | 2.42014323555e+49 | 375000.0 |\n",
      "| 5.47508556142e+46 | 1.19356865239e+50 | 440000.0 |\n",
      "+-------------------+-------------------+----------+\n",
      "[19396 rows x 16 columns]\n",
      "Note: Only the head of the SFrame is printed.\n",
      "You can use print_rows(num_rows=m, num_columns=n) to print more rows and columns.\n",
      "0 1939 17457 1939\n",
      "1939 3879 17456 1940\n",
      "3879 5818 17457 1939\n",
      "5818 7758 17456 1940\n",
      "7758 9698 17456 1940\n",
      "9698 11637 17457 1939\n",
      "11637 13577 17456 1940\n",
      "13577 15516 17457 1939\n",
      "15516 17456 17456 1940\n",
      "17456 19396 17456 1940\n",
      "L2 Penalty:  10000.0 error:  1.36368674728e+14\n",
      "+---------+-----------+---------------+-------------------+-------------------+\n",
      "| power_1 |  power_2  |    power_3    |      power_4      |      power_5      |\n",
      "+---------+-----------+---------------+-------------------+-------------------+\n",
      "|  2800.0 | 7840000.0 | 21952000000.0 |    6.14656e+13    |   1.7210368e+17   |\n",
      "|  2490.0 | 6200100.0 | 15438249000.0 |  3.844124001e+13  | 9.57186876249e+16 |\n",
      "|  2340.0 | 5475600.0 | 12812904000.0 |  2.998219536e+13  | 7.01583371424e+16 |\n",
      "|  1320.0 | 1742400.0 |  2299968000.0 |   3.03595776e+12  |  4.0074642432e+15 |\n",
      "|  1904.0 | 3625216.0 |  6902411264.0 | 1.31421910467e+13 | 2.50227317528e+16 |\n",
      "|  1610.0 | 2592100.0 |  4173281000.0 |   6.71898241e+12  | 1.08175616801e+16 |\n",
      "|  1560.0 | 2433600.0 |  3796416000.0 |   5.92240896e+12  |  9.2389579776e+15 |\n",
      "|  1320.0 | 1742400.0 |  2299968000.0 |   3.03595776e+12  |  4.0074642432e+15 |\n",
      "|  1960.0 | 3841600.0 |  7529536000.0 |  1.475789056e+13  | 2.89254654976e+16 |\n",
      "|  2180.0 | 4752400.0 | 10360232000.0 |  2.258530576e+13  | 4.92359665568e+16 |\n",
      "+---------+-----------+---------------+-------------------+-------------------+\n",
      "+-------------------+-------------------+-------------------+-------------------+\n",
      "|      power_6      |      power_7      |      power_8      |      power_9      |\n",
      "+-------------------+-------------------+-------------------+-------------------+\n",
      "|   4.81890304e+20  |  1.3492928512e+24 | 3.77801998336e+27 | 1.05784559534e+31 |\n",
      "| 2.38339532186e+20 | 5.93465435143e+23 | 1.47772893351e+27 | 3.67954504443e+30 |\n",
      "| 1.64170508913e+20 | 3.84158990857e+23 | 8.98932038605e+26 | 2.10350097034e+30 |\n",
      "| 5.28985280102e+18 | 6.98260569735e+21 |  9.2170395205e+24 | 1.21664921671e+28 |\n",
      "| 4.76432812574e+19 | 9.07128075141e+22 | 1.72717185507e+26 | 3.28853521205e+29 |\n",
      "|  1.7416274305e+19 |  2.8040201631e+22 | 4.51447246259e+25 | 7.26830066477e+28 |\n",
      "| 1.44127744451e+19 | 2.24839281343e+22 | 3.50749278895e+25 | 5.47168875076e+28 |\n",
      "| 5.28985280102e+18 | 6.98260569735e+21 |  9.2170395205e+24 | 1.21664921671e+28 |\n",
      "| 5.66939123753e+19 | 1.11120068256e+23 | 2.17795333781e+26 | 4.26878854211e+29 |\n",
      "| 1.07334407094e+20 | 2.33989007465e+23 | 5.10096036273e+26 | 1.11200935907e+30 |\n",
      "+-------------------+-------------------+-------------------+-------------------+\n",
      "+-------------------+-------------------+-------------------+-------------------+\n",
      "|      power_10     |      power_11     |      power_12     |      power_13     |\n",
      "+-------------------+-------------------+-------------------+-------------------+\n",
      "| 2.96196766695e+34 | 8.29350946747e+37 | 2.32218265089e+41 |  6.5021114225e+44 |\n",
      "| 9.16206716063e+33 |  2.281354723e+37  | 5.68057326026e+40 | 1.41446274181e+44 |\n",
      "| 4.92219227059e+33 | 1.15179299132e+37 | 2.69519559968e+40 | 6.30675770326e+43 |\n",
      "| 1.60597696605e+31 | 2.11988959519e+34 | 2.79825426565e+37 | 3.69369563066e+40 |\n",
      "| 6.26137104374e+32 | 1.19216504673e+36 | 2.26988224897e+39 | 4.32185580204e+42 |\n",
      "| 1.17019640703e+32 | 1.88401621531e+35 | 3.03326610666e+38 | 4.88355843172e+41 |\n",
      "| 8.53583445119e+31 | 1.33159017438e+35 | 2.07728067204e+38 | 3.24055784838e+41 |\n",
      "| 1.60597696605e+31 | 2.11988959519e+34 | 2.79825426565e+37 | 3.69369563066e+40 |\n",
      "| 8.36682554253e+32 | 1.63989780634e+36 | 3.21419970042e+39 | 6.29983141282e+42 |\n",
      "| 2.42418040278e+33 | 5.28471327807e+36 | 1.15206749462e+40 | 2.51150713827e+43 |\n",
      "+-------------------+-------------------+-------------------+-------------------+\n",
      "+-------------------+-------------------+----------+\n",
      "|      power_14     |      power_15     |  price   |\n",
      "+-------------------+-------------------+----------+\n",
      "|  1.8205911983e+48 | 5.09765535524e+51 | 665000.0 |\n",
      "|  3.5220122271e+47 | 8.76981044547e+50 | 645000.0 |\n",
      "| 1.47578130256e+47 |  3.453328248e+50  | 640000.0 |\n",
      "| 4.87567823247e+43 | 6.43589526686e+46 | 594000.0 |\n",
      "| 8.22881344709e+45 | 1.56676608033e+49 | 365000.0 |\n",
      "| 7.86252907506e+44 | 1.26586718109e+48 | 305000.0 |\n",
      "| 5.05527024348e+44 | 7.88622157983e+47 | 239950.0 |\n",
      "| 4.87567823247e+43 | 6.43589526686e+46 | 366000.0 |\n",
      "| 1.23476695691e+46 | 2.42014323555e+49 | 375000.0 |\n",
      "| 5.47508556142e+46 | 1.19356865239e+50 | 440000.0 |\n",
      "+-------------------+-------------------+----------+\n",
      "[19396 rows x 16 columns]\n",
      "Note: Only the head of the SFrame is printed.\n",
      "You can use print_rows(num_rows=m, num_columns=n) to print more rows and columns.\n",
      "0 1939 17457 1939\n",
      "1939 3879 17456 1940\n"
     ]
    },
    {
     "name": "stdout",
     "output_type": "stream",
     "text": [
      "3879 5818 17457 1939\n",
      "5818 7758 17456 1940\n",
      "7758 9698 17456 1940\n",
      "9698 11637 17457 1939\n",
      "11637 13577 17456 1940\n",
      "13577 15516 17457 1939\n",
      "15516 17456 17456 1940\n",
      "17456 19396 17456 1940\n",
      "L2 Penalty:  31622.7766017 error:  1.72029378294e+14\n",
      "+---------+-----------+---------------+-------------------+-------------------+\n",
      "| power_1 |  power_2  |    power_3    |      power_4      |      power_5      |\n",
      "+---------+-----------+---------------+-------------------+-------------------+\n",
      "|  2800.0 | 7840000.0 | 21952000000.0 |    6.14656e+13    |   1.7210368e+17   |\n",
      "|  2490.0 | 6200100.0 | 15438249000.0 |  3.844124001e+13  | 9.57186876249e+16 |\n",
      "|  2340.0 | 5475600.0 | 12812904000.0 |  2.998219536e+13  | 7.01583371424e+16 |\n",
      "|  1320.0 | 1742400.0 |  2299968000.0 |   3.03595776e+12  |  4.0074642432e+15 |\n",
      "|  1904.0 | 3625216.0 |  6902411264.0 | 1.31421910467e+13 | 2.50227317528e+16 |\n",
      "|  1610.0 | 2592100.0 |  4173281000.0 |   6.71898241e+12  | 1.08175616801e+16 |\n",
      "|  1560.0 | 2433600.0 |  3796416000.0 |   5.92240896e+12  |  9.2389579776e+15 |\n",
      "|  1320.0 | 1742400.0 |  2299968000.0 |   3.03595776e+12  |  4.0074642432e+15 |\n",
      "|  1960.0 | 3841600.0 |  7529536000.0 |  1.475789056e+13  | 2.89254654976e+16 |\n",
      "|  2180.0 | 4752400.0 | 10360232000.0 |  2.258530576e+13  | 4.92359665568e+16 |\n",
      "+---------+-----------+---------------+-------------------+-------------------+\n",
      "+-------------------+-------------------+-------------------+-------------------+\n",
      "|      power_6      |      power_7      |      power_8      |      power_9      |\n",
      "+-------------------+-------------------+-------------------+-------------------+\n",
      "|   4.81890304e+20  |  1.3492928512e+24 | 3.77801998336e+27 | 1.05784559534e+31 |\n",
      "| 2.38339532186e+20 | 5.93465435143e+23 | 1.47772893351e+27 | 3.67954504443e+30 |\n",
      "| 1.64170508913e+20 | 3.84158990857e+23 | 8.98932038605e+26 | 2.10350097034e+30 |\n",
      "| 5.28985280102e+18 | 6.98260569735e+21 |  9.2170395205e+24 | 1.21664921671e+28 |\n",
      "| 4.76432812574e+19 | 9.07128075141e+22 | 1.72717185507e+26 | 3.28853521205e+29 |\n",
      "|  1.7416274305e+19 |  2.8040201631e+22 | 4.51447246259e+25 | 7.26830066477e+28 |\n",
      "| 1.44127744451e+19 | 2.24839281343e+22 | 3.50749278895e+25 | 5.47168875076e+28 |\n",
      "| 5.28985280102e+18 | 6.98260569735e+21 |  9.2170395205e+24 | 1.21664921671e+28 |\n",
      "| 5.66939123753e+19 | 1.11120068256e+23 | 2.17795333781e+26 | 4.26878854211e+29 |\n",
      "| 1.07334407094e+20 | 2.33989007465e+23 | 5.10096036273e+26 | 1.11200935907e+30 |\n",
      "+-------------------+-------------------+-------------------+-------------------+\n",
      "+-------------------+-------------------+-------------------+-------------------+\n",
      "|      power_10     |      power_11     |      power_12     |      power_13     |\n",
      "+-------------------+-------------------+-------------------+-------------------+\n",
      "| 2.96196766695e+34 | 8.29350946747e+37 | 2.32218265089e+41 |  6.5021114225e+44 |\n",
      "| 9.16206716063e+33 |  2.281354723e+37  | 5.68057326026e+40 | 1.41446274181e+44 |\n",
      "| 4.92219227059e+33 | 1.15179299132e+37 | 2.69519559968e+40 | 6.30675770326e+43 |\n",
      "| 1.60597696605e+31 | 2.11988959519e+34 | 2.79825426565e+37 | 3.69369563066e+40 |\n",
      "| 6.26137104374e+32 | 1.19216504673e+36 | 2.26988224897e+39 | 4.32185580204e+42 |\n",
      "| 1.17019640703e+32 | 1.88401621531e+35 | 3.03326610666e+38 | 4.88355843172e+41 |\n",
      "| 8.53583445119e+31 | 1.33159017438e+35 | 2.07728067204e+38 | 3.24055784838e+41 |\n",
      "| 1.60597696605e+31 | 2.11988959519e+34 | 2.79825426565e+37 | 3.69369563066e+40 |\n",
      "| 8.36682554253e+32 | 1.63989780634e+36 | 3.21419970042e+39 | 6.29983141282e+42 |\n",
      "| 2.42418040278e+33 | 5.28471327807e+36 | 1.15206749462e+40 | 2.51150713827e+43 |\n",
      "+-------------------+-------------------+-------------------+-------------------+\n",
      "+-------------------+-------------------+----------+\n",
      "|      power_14     |      power_15     |  price   |\n",
      "+-------------------+-------------------+----------+\n",
      "|  1.8205911983e+48 | 5.09765535524e+51 | 665000.0 |\n",
      "|  3.5220122271e+47 | 8.76981044547e+50 | 645000.0 |\n",
      "| 1.47578130256e+47 |  3.453328248e+50  | 640000.0 |\n",
      "| 4.87567823247e+43 | 6.43589526686e+46 | 594000.0 |\n",
      "| 8.22881344709e+45 | 1.56676608033e+49 | 365000.0 |\n",
      "| 7.86252907506e+44 | 1.26586718109e+48 | 305000.0 |\n",
      "| 5.05527024348e+44 | 7.88622157983e+47 | 239950.0 |\n",
      "| 4.87567823247e+43 | 6.43589526686e+46 | 366000.0 |\n",
      "| 1.23476695691e+46 | 2.42014323555e+49 | 375000.0 |\n",
      "| 5.47508556142e+46 | 1.19356865239e+50 | 440000.0 |\n",
      "+-------------------+-------------------+----------+\n",
      "[19396 rows x 16 columns]\n",
      "Note: Only the head of the SFrame is printed.\n",
      "You can use print_rows(num_rows=m, num_columns=n) to print more rows and columns.\n",
      "0 1939 17457 1939\n",
      "1939 3879 17456 1940\n",
      "3879 5818 17457 1939\n",
      "5818 7758 17456 1940\n",
      "7758 9698 17456 1940\n",
      "9698 11637 17457 1939\n",
      "11637 13577 17456 1940\n",
      "13577 15516 17457 1939\n",
      "15516 17456 17456 1940\n",
      "17456 19396 17456 1940\n",
      "L2 Penalty:  100000.0 error:  2.29594832574e+14\n",
      "+---------+-----------+---------------+-------------------+-------------------+\n",
      "| power_1 |  power_2  |    power_3    |      power_4      |      power_5      |\n",
      "+---------+-----------+---------------+-------------------+-------------------+\n",
      "|  2800.0 | 7840000.0 | 21952000000.0 |    6.14656e+13    |   1.7210368e+17   |\n",
      "|  2490.0 | 6200100.0 | 15438249000.0 |  3.844124001e+13  | 9.57186876249e+16 |\n",
      "|  2340.0 | 5475600.0 | 12812904000.0 |  2.998219536e+13  | 7.01583371424e+16 |\n",
      "|  1320.0 | 1742400.0 |  2299968000.0 |   3.03595776e+12  |  4.0074642432e+15 |\n",
      "|  1904.0 | 3625216.0 |  6902411264.0 | 1.31421910467e+13 | 2.50227317528e+16 |\n",
      "|  1610.0 | 2592100.0 |  4173281000.0 |   6.71898241e+12  | 1.08175616801e+16 |\n",
      "|  1560.0 | 2433600.0 |  3796416000.0 |   5.92240896e+12  |  9.2389579776e+15 |\n",
      "|  1320.0 | 1742400.0 |  2299968000.0 |   3.03595776e+12  |  4.0074642432e+15 |\n",
      "|  1960.0 | 3841600.0 |  7529536000.0 |  1.475789056e+13  | 2.89254654976e+16 |\n",
      "|  2180.0 | 4752400.0 | 10360232000.0 |  2.258530576e+13  | 4.92359665568e+16 |\n",
      "+---------+-----------+---------------+-------------------+-------------------+\n",
      "+-------------------+-------------------+-------------------+-------------------+\n",
      "|      power_6      |      power_7      |      power_8      |      power_9      |\n",
      "+-------------------+-------------------+-------------------+-------------------+\n",
      "|   4.81890304e+20  |  1.3492928512e+24 | 3.77801998336e+27 | 1.05784559534e+31 |\n",
      "| 2.38339532186e+20 | 5.93465435143e+23 | 1.47772893351e+27 | 3.67954504443e+30 |\n",
      "| 1.64170508913e+20 | 3.84158990857e+23 | 8.98932038605e+26 | 2.10350097034e+30 |\n",
      "| 5.28985280102e+18 | 6.98260569735e+21 |  9.2170395205e+24 | 1.21664921671e+28 |\n",
      "| 4.76432812574e+19 | 9.07128075141e+22 | 1.72717185507e+26 | 3.28853521205e+29 |\n",
      "|  1.7416274305e+19 |  2.8040201631e+22 | 4.51447246259e+25 | 7.26830066477e+28 |\n",
      "| 1.44127744451e+19 | 2.24839281343e+22 | 3.50749278895e+25 | 5.47168875076e+28 |\n",
      "| 5.28985280102e+18 | 6.98260569735e+21 |  9.2170395205e+24 | 1.21664921671e+28 |\n",
      "| 5.66939123753e+19 | 1.11120068256e+23 | 2.17795333781e+26 | 4.26878854211e+29 |\n",
      "| 1.07334407094e+20 | 2.33989007465e+23 | 5.10096036273e+26 | 1.11200935907e+30 |\n",
      "+-------------------+-------------------+-------------------+-------------------+\n",
      "+-------------------+-------------------+-------------------+-------------------+\n",
      "|      power_10     |      power_11     |      power_12     |      power_13     |\n",
      "+-------------------+-------------------+-------------------+-------------------+\n",
      "| 2.96196766695e+34 | 8.29350946747e+37 | 2.32218265089e+41 |  6.5021114225e+44 |\n",
      "| 9.16206716063e+33 |  2.281354723e+37  | 5.68057326026e+40 | 1.41446274181e+44 |\n",
      "| 4.92219227059e+33 | 1.15179299132e+37 | 2.69519559968e+40 | 6.30675770326e+43 |\n",
      "| 1.60597696605e+31 | 2.11988959519e+34 | 2.79825426565e+37 | 3.69369563066e+40 |\n",
      "| 6.26137104374e+32 | 1.19216504673e+36 | 2.26988224897e+39 | 4.32185580204e+42 |\n",
      "| 1.17019640703e+32 | 1.88401621531e+35 | 3.03326610666e+38 | 4.88355843172e+41 |\n",
      "| 8.53583445119e+31 | 1.33159017438e+35 | 2.07728067204e+38 | 3.24055784838e+41 |\n",
      "| 1.60597696605e+31 | 2.11988959519e+34 | 2.79825426565e+37 | 3.69369563066e+40 |\n",
      "| 8.36682554253e+32 | 1.63989780634e+36 | 3.21419970042e+39 | 6.29983141282e+42 |\n",
      "| 2.42418040278e+33 | 5.28471327807e+36 | 1.15206749462e+40 | 2.51150713827e+43 |\n",
      "+-------------------+-------------------+-------------------+-------------------+\n",
      "+-------------------+-------------------+----------+\n",
      "|      power_14     |      power_15     |  price   |\n",
      "+-------------------+-------------------+----------+\n",
      "|  1.8205911983e+48 | 5.09765535524e+51 | 665000.0 |\n",
      "|  3.5220122271e+47 | 8.76981044547e+50 | 645000.0 |\n",
      "| 1.47578130256e+47 |  3.453328248e+50  | 640000.0 |\n",
      "| 4.87567823247e+43 | 6.43589526686e+46 | 594000.0 |\n",
      "| 8.22881344709e+45 | 1.56676608033e+49 | 365000.0 |\n",
      "| 7.86252907506e+44 | 1.26586718109e+48 | 305000.0 |\n",
      "| 5.05527024348e+44 | 7.88622157983e+47 | 239950.0 |\n",
      "| 4.87567823247e+43 | 6.43589526686e+46 | 366000.0 |\n",
      "| 1.23476695691e+46 | 2.42014323555e+49 | 375000.0 |\n",
      "| 5.47508556142e+46 | 1.19356865239e+50 | 440000.0 |\n",
      "+-------------------+-------------------+----------+\n",
      "[19396 rows x 16 columns]\n",
      "Note: Only the head of the SFrame is printed.\n",
      "You can use print_rows(num_rows=m, num_columns=n) to print more rows and columns.\n",
      "0 1939 17457 1939\n",
      "1939 3879 17456 1940\n"
     ]
    },
    {
     "name": "stdout",
     "output_type": "stream",
     "text": [
      "3879 5818 17457 1939\n",
      "5818 7758 17456 1940\n",
      "7758 9698 17456 1940\n",
      "9698 11637 17457 1939\n",
      "11637 13577 17456 1940\n",
      "13577 15516 17457 1939\n",
      "15516 17456 17456 1940\n",
      "17456 19396 17456 1940\n",
      "L2 Penalty:  316227.766017 error:  2.52999243571e+14\n",
      "+---------+-----------+---------------+-------------------+-------------------+\n",
      "| power_1 |  power_2  |    power_3    |      power_4      |      power_5      |\n",
      "+---------+-----------+---------------+-------------------+-------------------+\n",
      "|  2800.0 | 7840000.0 | 21952000000.0 |    6.14656e+13    |   1.7210368e+17   |\n",
      "|  2490.0 | 6200100.0 | 15438249000.0 |  3.844124001e+13  | 9.57186876249e+16 |\n",
      "|  2340.0 | 5475600.0 | 12812904000.0 |  2.998219536e+13  | 7.01583371424e+16 |\n",
      "|  1320.0 | 1742400.0 |  2299968000.0 |   3.03595776e+12  |  4.0074642432e+15 |\n",
      "|  1904.0 | 3625216.0 |  6902411264.0 | 1.31421910467e+13 | 2.50227317528e+16 |\n",
      "|  1610.0 | 2592100.0 |  4173281000.0 |   6.71898241e+12  | 1.08175616801e+16 |\n",
      "|  1560.0 | 2433600.0 |  3796416000.0 |   5.92240896e+12  |  9.2389579776e+15 |\n",
      "|  1320.0 | 1742400.0 |  2299968000.0 |   3.03595776e+12  |  4.0074642432e+15 |\n",
      "|  1960.0 | 3841600.0 |  7529536000.0 |  1.475789056e+13  | 2.89254654976e+16 |\n",
      "|  2180.0 | 4752400.0 | 10360232000.0 |  2.258530576e+13  | 4.92359665568e+16 |\n",
      "+---------+-----------+---------------+-------------------+-------------------+\n",
      "+-------------------+-------------------+-------------------+-------------------+\n",
      "|      power_6      |      power_7      |      power_8      |      power_9      |\n",
      "+-------------------+-------------------+-------------------+-------------------+\n",
      "|   4.81890304e+20  |  1.3492928512e+24 | 3.77801998336e+27 | 1.05784559534e+31 |\n",
      "| 2.38339532186e+20 | 5.93465435143e+23 | 1.47772893351e+27 | 3.67954504443e+30 |\n",
      "| 1.64170508913e+20 | 3.84158990857e+23 | 8.98932038605e+26 | 2.10350097034e+30 |\n",
      "| 5.28985280102e+18 | 6.98260569735e+21 |  9.2170395205e+24 | 1.21664921671e+28 |\n",
      "| 4.76432812574e+19 | 9.07128075141e+22 | 1.72717185507e+26 | 3.28853521205e+29 |\n",
      "|  1.7416274305e+19 |  2.8040201631e+22 | 4.51447246259e+25 | 7.26830066477e+28 |\n",
      "| 1.44127744451e+19 | 2.24839281343e+22 | 3.50749278895e+25 | 5.47168875076e+28 |\n",
      "| 5.28985280102e+18 | 6.98260569735e+21 |  9.2170395205e+24 | 1.21664921671e+28 |\n",
      "| 5.66939123753e+19 | 1.11120068256e+23 | 2.17795333781e+26 | 4.26878854211e+29 |\n",
      "| 1.07334407094e+20 | 2.33989007465e+23 | 5.10096036273e+26 | 1.11200935907e+30 |\n",
      "+-------------------+-------------------+-------------------+-------------------+\n",
      "+-------------------+-------------------+-------------------+-------------------+\n",
      "|      power_10     |      power_11     |      power_12     |      power_13     |\n",
      "+-------------------+-------------------+-------------------+-------------------+\n",
      "| 2.96196766695e+34 | 8.29350946747e+37 | 2.32218265089e+41 |  6.5021114225e+44 |\n",
      "| 9.16206716063e+33 |  2.281354723e+37  | 5.68057326026e+40 | 1.41446274181e+44 |\n",
      "| 4.92219227059e+33 | 1.15179299132e+37 | 2.69519559968e+40 | 6.30675770326e+43 |\n",
      "| 1.60597696605e+31 | 2.11988959519e+34 | 2.79825426565e+37 | 3.69369563066e+40 |\n",
      "| 6.26137104374e+32 | 1.19216504673e+36 | 2.26988224897e+39 | 4.32185580204e+42 |\n",
      "| 1.17019640703e+32 | 1.88401621531e+35 | 3.03326610666e+38 | 4.88355843172e+41 |\n",
      "| 8.53583445119e+31 | 1.33159017438e+35 | 2.07728067204e+38 | 3.24055784838e+41 |\n",
      "| 1.60597696605e+31 | 2.11988959519e+34 | 2.79825426565e+37 | 3.69369563066e+40 |\n",
      "| 8.36682554253e+32 | 1.63989780634e+36 | 3.21419970042e+39 | 6.29983141282e+42 |\n",
      "| 2.42418040278e+33 | 5.28471327807e+36 | 1.15206749462e+40 | 2.51150713827e+43 |\n",
      "+-------------------+-------------------+-------------------+-------------------+\n",
      "+-------------------+-------------------+----------+\n",
      "|      power_14     |      power_15     |  price   |\n",
      "+-------------------+-------------------+----------+\n",
      "|  1.8205911983e+48 | 5.09765535524e+51 | 665000.0 |\n",
      "|  3.5220122271e+47 | 8.76981044547e+50 | 645000.0 |\n",
      "| 1.47578130256e+47 |  3.453328248e+50  | 640000.0 |\n",
      "| 4.87567823247e+43 | 6.43589526686e+46 | 594000.0 |\n",
      "| 8.22881344709e+45 | 1.56676608033e+49 | 365000.0 |\n",
      "| 7.86252907506e+44 | 1.26586718109e+48 | 305000.0 |\n",
      "| 5.05527024348e+44 | 7.88622157983e+47 | 239950.0 |\n",
      "| 4.87567823247e+43 | 6.43589526686e+46 | 366000.0 |\n",
      "| 1.23476695691e+46 | 2.42014323555e+49 | 375000.0 |\n",
      "| 5.47508556142e+46 | 1.19356865239e+50 | 440000.0 |\n",
      "+-------------------+-------------------+----------+\n",
      "[19396 rows x 16 columns]\n",
      "Note: Only the head of the SFrame is printed.\n",
      "You can use print_rows(num_rows=m, num_columns=n) to print more rows and columns.\n",
      "0 1939 17457 1939\n",
      "1939 3879 17456 1940\n",
      "3879 5818 17457 1939\n",
      "5818 7758 17456 1940\n",
      "7758 9698 17456 1940\n",
      "9698 11637 17457 1939\n",
      "11637 13577 17456 1940\n",
      "13577 15516 17457 1939\n",
      "15516 17456 17456 1940\n",
      "17456 19396 17456 1940\n",
      "L2 Penalty:  1000000.0 error:  2.58702727761e+14\n",
      "+---------+-----------+---------------+-------------------+-------------------+\n",
      "| power_1 |  power_2  |    power_3    |      power_4      |      power_5      |\n",
      "+---------+-----------+---------------+-------------------+-------------------+\n",
      "|  2800.0 | 7840000.0 | 21952000000.0 |    6.14656e+13    |   1.7210368e+17   |\n",
      "|  2490.0 | 6200100.0 | 15438249000.0 |  3.844124001e+13  | 9.57186876249e+16 |\n",
      "|  2340.0 | 5475600.0 | 12812904000.0 |  2.998219536e+13  | 7.01583371424e+16 |\n",
      "|  1320.0 | 1742400.0 |  2299968000.0 |   3.03595776e+12  |  4.0074642432e+15 |\n",
      "|  1904.0 | 3625216.0 |  6902411264.0 | 1.31421910467e+13 | 2.50227317528e+16 |\n",
      "|  1610.0 | 2592100.0 |  4173281000.0 |   6.71898241e+12  | 1.08175616801e+16 |\n",
      "|  1560.0 | 2433600.0 |  3796416000.0 |   5.92240896e+12  |  9.2389579776e+15 |\n",
      "|  1320.0 | 1742400.0 |  2299968000.0 |   3.03595776e+12  |  4.0074642432e+15 |\n",
      "|  1960.0 | 3841600.0 |  7529536000.0 |  1.475789056e+13  | 2.89254654976e+16 |\n",
      "|  2180.0 | 4752400.0 | 10360232000.0 |  2.258530576e+13  | 4.92359665568e+16 |\n",
      "+---------+-----------+---------------+-------------------+-------------------+\n",
      "+-------------------+-------------------+-------------------+-------------------+\n",
      "|      power_6      |      power_7      |      power_8      |      power_9      |\n",
      "+-------------------+-------------------+-------------------+-------------------+\n",
      "|   4.81890304e+20  |  1.3492928512e+24 | 3.77801998336e+27 | 1.05784559534e+31 |\n",
      "| 2.38339532186e+20 | 5.93465435143e+23 | 1.47772893351e+27 | 3.67954504443e+30 |\n",
      "| 1.64170508913e+20 | 3.84158990857e+23 | 8.98932038605e+26 | 2.10350097034e+30 |\n",
      "| 5.28985280102e+18 | 6.98260569735e+21 |  9.2170395205e+24 | 1.21664921671e+28 |\n",
      "| 4.76432812574e+19 | 9.07128075141e+22 | 1.72717185507e+26 | 3.28853521205e+29 |\n",
      "|  1.7416274305e+19 |  2.8040201631e+22 | 4.51447246259e+25 | 7.26830066477e+28 |\n",
      "| 1.44127744451e+19 | 2.24839281343e+22 | 3.50749278895e+25 | 5.47168875076e+28 |\n",
      "| 5.28985280102e+18 | 6.98260569735e+21 |  9.2170395205e+24 | 1.21664921671e+28 |\n",
      "| 5.66939123753e+19 | 1.11120068256e+23 | 2.17795333781e+26 | 4.26878854211e+29 |\n",
      "| 1.07334407094e+20 | 2.33989007465e+23 | 5.10096036273e+26 | 1.11200935907e+30 |\n",
      "+-------------------+-------------------+-------------------+-------------------+\n",
      "+-------------------+-------------------+-------------------+-------------------+\n",
      "|      power_10     |      power_11     |      power_12     |      power_13     |\n",
      "+-------------------+-------------------+-------------------+-------------------+\n",
      "| 2.96196766695e+34 | 8.29350946747e+37 | 2.32218265089e+41 |  6.5021114225e+44 |\n",
      "| 9.16206716063e+33 |  2.281354723e+37  | 5.68057326026e+40 | 1.41446274181e+44 |\n",
      "| 4.92219227059e+33 | 1.15179299132e+37 | 2.69519559968e+40 | 6.30675770326e+43 |\n",
      "| 1.60597696605e+31 | 2.11988959519e+34 | 2.79825426565e+37 | 3.69369563066e+40 |\n",
      "| 6.26137104374e+32 | 1.19216504673e+36 | 2.26988224897e+39 | 4.32185580204e+42 |\n",
      "| 1.17019640703e+32 | 1.88401621531e+35 | 3.03326610666e+38 | 4.88355843172e+41 |\n",
      "| 8.53583445119e+31 | 1.33159017438e+35 | 2.07728067204e+38 | 3.24055784838e+41 |\n",
      "| 1.60597696605e+31 | 2.11988959519e+34 | 2.79825426565e+37 | 3.69369563066e+40 |\n",
      "| 8.36682554253e+32 | 1.63989780634e+36 | 3.21419970042e+39 | 6.29983141282e+42 |\n",
      "| 2.42418040278e+33 | 5.28471327807e+36 | 1.15206749462e+40 | 2.51150713827e+43 |\n",
      "+-------------------+-------------------+-------------------+-------------------+\n",
      "+-------------------+-------------------+----------+\n",
      "|      power_14     |      power_15     |  price   |\n",
      "+-------------------+-------------------+----------+\n",
      "|  1.8205911983e+48 | 5.09765535524e+51 | 665000.0 |\n",
      "|  3.5220122271e+47 | 8.76981044547e+50 | 645000.0 |\n",
      "| 1.47578130256e+47 |  3.453328248e+50  | 640000.0 |\n",
      "| 4.87567823247e+43 | 6.43589526686e+46 | 594000.0 |\n",
      "| 8.22881344709e+45 | 1.56676608033e+49 | 365000.0 |\n",
      "| 7.86252907506e+44 | 1.26586718109e+48 | 305000.0 |\n",
      "| 5.05527024348e+44 | 7.88622157983e+47 | 239950.0 |\n",
      "| 4.87567823247e+43 | 6.43589526686e+46 | 366000.0 |\n",
      "| 1.23476695691e+46 | 2.42014323555e+49 | 375000.0 |\n",
      "| 5.47508556142e+46 | 1.19356865239e+50 | 440000.0 |\n",
      "+-------------------+-------------------+----------+\n",
      "[19396 rows x 16 columns]\n",
      "Note: Only the head of the SFrame is printed.\n",
      "You can use print_rows(num_rows=m, num_columns=n) to print more rows and columns.\n",
      "0 1939 17457 1939\n",
      "1939 3879 17456 1940\n"
     ]
    },
    {
     "name": "stdout",
     "output_type": "stream",
     "text": [
      "3879 5818 17457 1939\n",
      "5818 7758 17456 1940\n",
      "7758 9698 17456 1940\n",
      "9698 11637 17457 1939\n",
      "11637 13577 17456 1940\n",
      "13577 15516 17457 1939\n",
      "15516 17456 17456 1940\n",
      "17456 19396 17456 1940\n",
      "L2 Penalty:  3162277.66017 error:  2.62827078908e+14\n",
      "+---------+-----------+---------------+-------------------+-------------------+\n",
      "| power_1 |  power_2  |    power_3    |      power_4      |      power_5      |\n",
      "+---------+-----------+---------------+-------------------+-------------------+\n",
      "|  2800.0 | 7840000.0 | 21952000000.0 |    6.14656e+13    |   1.7210368e+17   |\n",
      "|  2490.0 | 6200100.0 | 15438249000.0 |  3.844124001e+13  | 9.57186876249e+16 |\n",
      "|  2340.0 | 5475600.0 | 12812904000.0 |  2.998219536e+13  | 7.01583371424e+16 |\n",
      "|  1320.0 | 1742400.0 |  2299968000.0 |   3.03595776e+12  |  4.0074642432e+15 |\n",
      "|  1904.0 | 3625216.0 |  6902411264.0 | 1.31421910467e+13 | 2.50227317528e+16 |\n",
      "|  1610.0 | 2592100.0 |  4173281000.0 |   6.71898241e+12  | 1.08175616801e+16 |\n",
      "|  1560.0 | 2433600.0 |  3796416000.0 |   5.92240896e+12  |  9.2389579776e+15 |\n",
      "|  1320.0 | 1742400.0 |  2299968000.0 |   3.03595776e+12  |  4.0074642432e+15 |\n",
      "|  1960.0 | 3841600.0 |  7529536000.0 |  1.475789056e+13  | 2.89254654976e+16 |\n",
      "|  2180.0 | 4752400.0 | 10360232000.0 |  2.258530576e+13  | 4.92359665568e+16 |\n",
      "+---------+-----------+---------------+-------------------+-------------------+\n",
      "+-------------------+-------------------+-------------------+-------------------+\n",
      "|      power_6      |      power_7      |      power_8      |      power_9      |\n",
      "+-------------------+-------------------+-------------------+-------------------+\n",
      "|   4.81890304e+20  |  1.3492928512e+24 | 3.77801998336e+27 | 1.05784559534e+31 |\n",
      "| 2.38339532186e+20 | 5.93465435143e+23 | 1.47772893351e+27 | 3.67954504443e+30 |\n",
      "| 1.64170508913e+20 | 3.84158990857e+23 | 8.98932038605e+26 | 2.10350097034e+30 |\n",
      "| 5.28985280102e+18 | 6.98260569735e+21 |  9.2170395205e+24 | 1.21664921671e+28 |\n",
      "| 4.76432812574e+19 | 9.07128075141e+22 | 1.72717185507e+26 | 3.28853521205e+29 |\n",
      "|  1.7416274305e+19 |  2.8040201631e+22 | 4.51447246259e+25 | 7.26830066477e+28 |\n",
      "| 1.44127744451e+19 | 2.24839281343e+22 | 3.50749278895e+25 | 5.47168875076e+28 |\n",
      "| 5.28985280102e+18 | 6.98260569735e+21 |  9.2170395205e+24 | 1.21664921671e+28 |\n",
      "| 5.66939123753e+19 | 1.11120068256e+23 | 2.17795333781e+26 | 4.26878854211e+29 |\n",
      "| 1.07334407094e+20 | 2.33989007465e+23 | 5.10096036273e+26 | 1.11200935907e+30 |\n",
      "+-------------------+-------------------+-------------------+-------------------+\n",
      "+-------------------+-------------------+-------------------+-------------------+\n",
      "|      power_10     |      power_11     |      power_12     |      power_13     |\n",
      "+-------------------+-------------------+-------------------+-------------------+\n",
      "| 2.96196766695e+34 | 8.29350946747e+37 | 2.32218265089e+41 |  6.5021114225e+44 |\n",
      "| 9.16206716063e+33 |  2.281354723e+37  | 5.68057326026e+40 | 1.41446274181e+44 |\n",
      "| 4.92219227059e+33 | 1.15179299132e+37 | 2.69519559968e+40 | 6.30675770326e+43 |\n",
      "| 1.60597696605e+31 | 2.11988959519e+34 | 2.79825426565e+37 | 3.69369563066e+40 |\n",
      "| 6.26137104374e+32 | 1.19216504673e+36 | 2.26988224897e+39 | 4.32185580204e+42 |\n",
      "| 1.17019640703e+32 | 1.88401621531e+35 | 3.03326610666e+38 | 4.88355843172e+41 |\n",
      "| 8.53583445119e+31 | 1.33159017438e+35 | 2.07728067204e+38 | 3.24055784838e+41 |\n",
      "| 1.60597696605e+31 | 2.11988959519e+34 | 2.79825426565e+37 | 3.69369563066e+40 |\n",
      "| 8.36682554253e+32 | 1.63989780634e+36 | 3.21419970042e+39 | 6.29983141282e+42 |\n",
      "| 2.42418040278e+33 | 5.28471327807e+36 | 1.15206749462e+40 | 2.51150713827e+43 |\n",
      "+-------------------+-------------------+-------------------+-------------------+\n",
      "+-------------------+-------------------+----------+\n",
      "|      power_14     |      power_15     |  price   |\n",
      "+-------------------+-------------------+----------+\n",
      "|  1.8205911983e+48 | 5.09765535524e+51 | 665000.0 |\n",
      "|  3.5220122271e+47 | 8.76981044547e+50 | 645000.0 |\n",
      "| 1.47578130256e+47 |  3.453328248e+50  | 640000.0 |\n",
      "| 4.87567823247e+43 | 6.43589526686e+46 | 594000.0 |\n",
      "| 8.22881344709e+45 | 1.56676608033e+49 | 365000.0 |\n",
      "| 7.86252907506e+44 | 1.26586718109e+48 | 305000.0 |\n",
      "| 5.05527024348e+44 | 7.88622157983e+47 | 239950.0 |\n",
      "| 4.87567823247e+43 | 6.43589526686e+46 | 366000.0 |\n",
      "| 1.23476695691e+46 | 2.42014323555e+49 | 375000.0 |\n",
      "| 5.47508556142e+46 | 1.19356865239e+50 | 440000.0 |\n",
      "+-------------------+-------------------+----------+\n",
      "[19396 rows x 16 columns]\n",
      "Note: Only the head of the SFrame is printed.\n",
      "You can use print_rows(num_rows=m, num_columns=n) to print more rows and columns.\n",
      "0 1939 17457 1939\n",
      "1939 3879 17456 1940\n",
      "3879 5818 17457 1939\n",
      "5818 7758 17456 1940\n",
      "7758 9698 17456 1940\n",
      "9698 11637 17457 1939\n",
      "11637 13577 17456 1940\n",
      "13577 15516 17457 1939\n",
      "15516 17456 17456 1940\n",
      "17456 19396 17456 1940\n",
      "L2 Penalty:  10000000.0 error:  2.64891158173e+14\n",
      "[539373448881557.9, 303511496235835.1, 163401061013254.66, 121774612754521.42, 121932075962955.92, 124122158048564.28, 136368674728005.25, 172029378293581.38, 229594832574104.84, 252999243571252.8, 258702727760770.3, 262827078908024.75, 264891158173169.56]\n"
     ]
    }
   ],
   "source": [
    "import numpy as np\n",
    "from numpy import logspace\n",
    "poly_data_kfold = polynomial_sframe(train_valid_shuffled['sqft_living'], 15)\n",
    "poly_features_kfold = poly_data_kfold.column_names()\n",
    "poly_data_kfold['price'] = train_valid_shuffled['price']\n",
    "errorList = []\n",
    "l2_paneltyList=[]\n",
    "for l2_penalty in logspace(1,7, num=13):\n",
    "    error = k_fold_cross_validation(10, l2_penalty, poly_data_kfold, \"price\", features_list=poly_features_kfold)\n",
    "    print 'L2 Penalty: ', l2_penalty, \"error: \", error\n",
    "    errorList.append(error)\n",
    "    l2_paneltyList.append(l2_penalty)\n",
    "print errorList"
   ]
  },
  {
   "cell_type": "markdown",
   "metadata": {},
   "source": [
    "***QUIZ QUESTIONS:  What is the best value for the L2 penalty according to 10-fold validation?***"
   ]
  },
  {
   "cell_type": "markdown",
   "metadata": {},
   "source": [
    "You may find it useful to plot the k-fold cross-validation errors you have obtained to better understand the behavior of the method.  "
   ]
  },
  {
   "cell_type": "code",
   "execution_count": 144,
   "metadata": {},
   "outputs": [
    {
     "data": {
      "text/plain": [
       "[<matplotlib.lines.Line2D at 0x111bfead0>]"
      ]
     },
     "execution_count": 144,
     "metadata": {},
     "output_type": "execute_result"
    },
    {
     "data": {
      "image/png": "[encoded data removed]",
      "text/plain": [
       "<matplotlib.figure.Figure at 0x111bfeed0>"
      ]
     },
     "metadata": {},
     "output_type": "display_data"
    }
   ],
   "source": [
    "# Plot the l2_penalty values in the x axis and the cross-validation error in the y axis.\n",
    "# Using plt.xscale('log') will make your plot more intuitive.\n",
    "plt.xscale('log')\n",
    "\n",
    "plt.plot(l2_paneltyList, errorList, 'r-x')\n"
   ]
  },
  {
   "cell_type": "markdown",
   "metadata": {},
   "source": [
    "Once you found the best value for the L2 penalty using cross-validation, it is important to retrain a final model on all of the training data using this value of `l2_penalty`. This way, your final model will be trained on the entire dataset."
   ]
  },
  {
   "cell_type": "code",
   "execution_count": 165,
   "metadata": {},
   "outputs": [
    {
     "name": "stdout",
     "output_type": "stream",
     "text": [
      "316.227766017\n"
     ]
    }
   ],
   "source": [
    "index =  errorList.index(min(errorList))\n",
    "best_l2_penalty = l2_paneltyList[index]\n",
    "print best_l2_penalty\n",
    "new_model = graphlab.linear_regression.create(poly_data_kfold, target='price', l2_penalty=best_l2_penalty, \n",
    "                                                features=poly_features_kfold, validation_set=None, verbose=False\n",
    "                                               )"
   ]
  },
  {
   "cell_type": "markdown",
   "metadata": {},
   "source": [
    "***QUIZ QUESTION: Using the best L2 penalty found above, train a model using all training data. What is the RSS on the TEST data of the model you learn with this L2 penalty? ***"
   ]
  },
  {
   "cell_type": "code",
   "execution_count": 166,
   "metadata": {},
   "outputs": [
    {
     "name": "stdout",
     "output_type": "stream",
     "text": [
      "1.27643873739e+14\n"
     ]
    }
   ],
   "source": [
    "test_data = polynomial_sframe(test['sqft_living'], 15)\n",
    "#temp = test['price'] - new_model.predict(test_data)\n",
    "#rss = (temp * temp).sum()\n",
    "rss = get_residual_sum_of_squares(new_model, test_data, test['price'])\n",
    "print rss"
   ]
  },
  {
   "cell_type": "code",
   "execution_count": null,
   "metadata": {},
   "outputs": [],
   "source": []
  },
  {
   "cell_type": "code",
   "execution_count": null,
   "metadata": {
    "collapsed": true
   },
   "outputs": [],
   "source": []
  }
 ],
 "metadata": {
  "kernelspec": {
   "display_name": "Python [default]",
   "language": "python",
   "name": "python2"
  },
  "language_info": {
   "codemirror_mode": {
    "name": "ipython",
    "version": 2
   },
   "file_extension": ".py",
   "mimetype": "text/x-python",
   "name": "python",
   "nbconvert_exporter": "python",
   "pygments_lexer": "ipython2",
   "version": "2.7.13"
  }
 },
 "nbformat": 4,
 "nbformat_minor": 1
}
